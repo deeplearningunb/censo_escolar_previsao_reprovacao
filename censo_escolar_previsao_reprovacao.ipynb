{
 "cells": [
  {
   "cell_type": "markdown",
   "metadata": {},
   "source": [
    "### Comparação entre os Censos Escolares de 2015 e 2016"
   ]
  },
  {
   "cell_type": "code",
   "execution_count": 1,
   "metadata": {},
   "outputs": [],
   "source": [
    "import pandas as pd"
   ]
  },
  {
   "cell_type": "code",
   "execution_count": 2,
   "metadata": {},
   "outputs": [],
   "source": [
    "matriculas_2015 = pd.read_csv('dataset/2015/MATRICULA_CO.CSV', sep='|')"
   ]
  },
  {
   "cell_type": "code",
   "execution_count": 3,
   "metadata": {},
   "outputs": [],
   "source": [
    "matriculas_2016 = pd.read_csv('dataset/2016/MATRICULA_CO.CSV', sep='|')"
   ]
  },
  {
   "cell_type": "code",
   "execution_count": 4,
   "metadata": {},
   "outputs": [
    {
     "name": "stdout",
     "output_type": "stream",
     "text": [
      "<class 'pandas.core.frame.DataFrame'>\n",
      "RangeIndex: 4064193 entries, 0 to 4064192\n",
      "Data columns (total 93 columns):\n",
      "NU_ANO_CENSO                     int64\n",
      "ID_MATRICULA                     int64\n",
      "CO_PESSOA_FISICA                 int64\n",
      "NU_DIA                           int64\n",
      "NU_MES                           int64\n",
      "NU_ANO                           int64\n",
      "NU_IDADE_REFERENCIA              int64\n",
      "NU_IDADE                         int64\n",
      "NU_DURACAO_TURMA                 float64\n",
      "NU_DUR_ATIV_COMP_MESMA_REDE      float64\n",
      "NU_DUR_ATIV_COMP_OUTRAS_REDES    float64\n",
      "NU_DUR_AEE_MESMA_REDE            float64\n",
      "NU_DUR_AEE_OUTRAS_REDES          float64\n",
      "NU_DIAS_ATIVIDADE                int64\n",
      "TP_SEXO                          int64\n",
      "TP_COR_RACA                      int64\n",
      "TP_NACIONALIDADE                 int64\n",
      "CO_PAIS_ORIGEM                   int64\n",
      "CO_UF_NASC                       float64\n",
      "CO_MUNICIPIO_NASC                float64\n",
      "CO_UF_END                        float64\n",
      "CO_MUNICIPIO_END                 float64\n",
      "TP_ZONA_RESIDENCIAL              int64\n",
      "TP_OUTRO_LOCAL_AULA              int64\n",
      "IN_TRANSPORTE_PUBLICO            int64\n",
      "TP_RESPONSAVEL_TRANSPORTE        float64\n",
      "IN_TRANSP_VANS_KOMBI             float64\n",
      "IN_TRANSP_MICRO_ONIBUS           float64\n",
      "IN_TRANSP_ONIBUS                 float64\n",
      "IN_TRANSP_BICICLETA              float64\n",
      "IN_TRANSP_TR_ANIMAL              float64\n",
      "IN_TRANSP_OUTRO_VEICULO          float64\n",
      "IN_TRANSP_EMBAR_ATE5             float64\n",
      "IN_TRANSP_EMBAR_5A15             float64\n",
      "IN_TRANSP_EMBAR_15A35            float64\n",
      "IN_TRANSP_EMBAR_35               float64\n",
      "IN_TRANSP_TREM_METRO             float64\n",
      "IN_NECESSIDADE_ESPECIAL          int64\n",
      "IN_CEGUEIRA                      float64\n",
      "IN_BAIXA_VISAO                   float64\n",
      "IN_SURDEZ                        float64\n",
      "IN_DEF_AUDITIVA                  float64\n",
      "IN_SURDOCEGUEIRA                 float64\n",
      "IN_DEF_FISICA                    float64\n",
      "IN_DEF_INTELECTUAL               float64\n",
      "IN_DEF_MULTIPLA                  float64\n",
      "IN_AUTISMO                       float64\n",
      "IN_SINDROME_ASPERGER             float64\n",
      "IN_SINDROME_RETT                 float64\n",
      "IN_TRANSTORNO_DI                 float64\n",
      "IN_SUPERDOTACAO                  float64\n",
      "IN_RECURSO_LEDOR                 float64\n",
      "IN_RECURSO_TRANSCRICAO           float64\n",
      "IN_RECURSO_INTERPRETE            float64\n",
      "IN_RECURSO_LIBRAS                float64\n",
      "IN_RECURSO_LABIAL                float64\n",
      "IN_RECURSO_BRAILLE               float64\n",
      "IN_RECURSO_AMPLIADA_16           float64\n",
      "IN_RECURSO_AMPLIADA_20           float64\n",
      "IN_RECURSO_AMPLIADA_24           float64\n",
      "IN_RECURSO_NENHUM                float64\n",
      "TP_INGRESSO_FEDERAIS             float64\n",
      "TP_MEDIACAO_DIDATICO_PEDAGO      int64\n",
      "IN_ESPECIAL_EXCLUSIVA            float64\n",
      "IN_REGULAR                       float64\n",
      "IN_EJA                           float64\n",
      "IN_PROFISSIONALIZANTE            float64\n",
      "TP_ETAPA_ENSINO                  float64\n",
      "TP_ETAPA_AGREGADA                float64\n",
      "ID_TURMA                         int64\n",
      "CO_CURSO_EDUC_PROFISSIONAL       float64\n",
      "TP_UNIFICADA                     float64\n",
      "TP_TIPO_TURMA                    int64\n",
      "CO_ENTIDADE                      int64\n",
      "CO_REGIAO                        int64\n",
      "CO_MESORREGIAO                   int64\n",
      "CO_MICRORREGIAO                  int64\n",
      "CO_UF                            int64\n",
      "CO_MUNICIPIO                     int64\n",
      "CO_DISTRITO                      int64\n",
      "TP_DEPENDENCIA                   int64\n",
      "TP_LOCALIZACAO                   int64\n",
      "TP_CATEGORIA_ESCOLA_PRIVADA      float64\n",
      "IN_CONVENIADA_PP                 float64\n",
      "TP_CONVENIO_PODER_PUBLICO        float64\n",
      "IN_MANT_ESCOLA_PRIVADA_EMP       float64\n",
      "IN_MANT_ESCOLA_PRIVADA_ONG       float64\n",
      "IN_MANT_ESCOLA_PRIVADA_SIND      float64\n",
      "IN_MANT_ESCOLA_PRIVADA_SIST_S    float64\n",
      "IN_MANT_ESCOLA_PRIVADA_S_FINS    float64\n",
      "TP_REGULAMENTACAO                int64\n",
      "TP_LOCALIZACAO_DIFERENCIADA      int64\n",
      "IN_EDUCACAO_INDIGENA             int64\n",
      "dtypes: float64(61), int64(32)\n",
      "memory usage: 2.8 GB\n"
     ]
    }
   ],
   "source": [
    "matriculas_2015.info()"
   ]
  },
  {
   "cell_type": "code",
   "execution_count": 5,
   "metadata": {},
   "outputs": [
    {
     "name": "stdout",
     "output_type": "stream",
     "text": [
      "<class 'pandas.core.frame.DataFrame'>\n",
      "RangeIndex: 3924436 entries, 0 to 3924435\n",
      "Data columns (total 92 columns):\n",
      "NU_ANO_CENSO                     int64\n",
      "ID_MATRICULA                     int64\n",
      "CO_PESSOA_FISICA                 int64\n",
      "NU_DIA                           int64\n",
      "NU_MES                           int64\n",
      "NU_ANO                           int64\n",
      "NU_IDADE_REFERENCIA              int64\n",
      "NU_IDADE                         int64\n",
      "NU_DURACAO_TURMA                 float64\n",
      "NU_DUR_ATIV_COMP_MESMA_REDE      float64\n",
      "NU_DUR_ATIV_COMP_OUTRAS_REDES    float64\n",
      "NU_DUR_AEE_MESMA_REDE            float64\n",
      "NU_DUR_AEE_OUTRAS_REDES          float64\n",
      "NU_DIAS_ATIVIDADE                int64\n",
      "TP_SEXO                          int64\n",
      "TP_COR_RACA                      int64\n",
      "TP_NACIONALIDADE                 int64\n",
      "CO_PAIS_ORIGEM                   int64\n",
      "CO_UF_NASC                       float64\n",
      "CO_MUNICIPIO_NASC                float64\n",
      "CO_UF_END                        float64\n",
      "CO_MUNICIPIO_END                 float64\n",
      "TP_ZONA_RESIDENCIAL              int64\n",
      "TP_OUTRO_LOCAL_AULA              int64\n",
      "IN_TRANSPORTE_PUBLICO            int64\n",
      "TP_RESPONSAVEL_TRANSPORTE        float64\n",
      "IN_TRANSP_VANS_KOMBI             float64\n",
      "IN_TRANSP_MICRO_ONIBUS           float64\n",
      "IN_TRANSP_ONIBUS                 float64\n",
      "IN_TRANSP_BICICLETA              float64\n",
      "IN_TRANSP_TR_ANIMAL              float64\n",
      "IN_TRANSP_OUTRO_VEICULO          float64\n",
      "IN_TRANSP_EMBAR_ATE5             float64\n",
      "IN_TRANSP_EMBAR_5A15             float64\n",
      "IN_TRANSP_EMBAR_15A35            float64\n",
      "IN_TRANSP_EMBAR_35               float64\n",
      "IN_TRANSP_TREM_METRO             float64\n",
      "IN_NECESSIDADE_ESPECIAL          int64\n",
      "IN_CEGUEIRA                      float64\n",
      "IN_BAIXA_VISAO                   float64\n",
      "IN_SURDEZ                        float64\n",
      "IN_DEF_AUDITIVA                  float64\n",
      "IN_SURDOCEGUEIRA                 float64\n",
      "IN_DEF_FISICA                    float64\n",
      "IN_DEF_INTELECTUAL               float64\n",
      "IN_DEF_MULTIPLA                  float64\n",
      "IN_AUTISMO                       float64\n",
      "IN_SINDROME_ASPERGER             float64\n",
      "IN_SINDROME_RETT                 float64\n",
      "IN_TRANSTORNO_DI                 float64\n",
      "IN_SUPERDOTACAO                  float64\n",
      "IN_RECURSO_LEDOR                 float64\n",
      "IN_RECURSO_TRANSCRICAO           float64\n",
      "IN_RECURSO_INTERPRETE            float64\n",
      "IN_RECURSO_LIBRAS                float64\n",
      "IN_RECURSO_LABIAL                float64\n",
      "IN_RECURSO_BRAILLE               float64\n",
      "IN_RECURSO_AMPLIADA_16           float64\n",
      "IN_RECURSO_AMPLIADA_20           float64\n",
      "IN_RECURSO_AMPLIADA_24           float64\n",
      "IN_RECURSO_NENHUM                float64\n",
      "TP_INGRESSO_FEDERAIS             float64\n",
      "TP_MEDIACAO_DIDATICO_PEDAGO      int64\n",
      "IN_ESPECIAL_EXCLUSIVA            float64\n",
      "IN_REGULAR                       float64\n",
      "IN_EJA                           float64\n",
      "IN_PROFISSIONALIZANTE            float64\n",
      "TP_ETAPA_ENSINO                  float64\n",
      "ID_TURMA                         int64\n",
      "CO_CURSO_EDUC_PROFISSIONAL       float64\n",
      "TP_UNIFICADA                     float64\n",
      "TP_TIPO_TURMA                    int64\n",
      "CO_ENTIDADE                      int64\n",
      "CO_REGIAO                        int64\n",
      "CO_MESORREGIAO                   int64\n",
      "CO_MICRORREGIAO                  int64\n",
      "CO_UF                            int64\n",
      "CO_MUNICIPIO                     int64\n",
      "CO_DISTRITO                      int64\n",
      "TP_DEPENDENCIA                   int64\n",
      "TP_LOCALIZACAO                   int64\n",
      "TP_CATEGORIA_ESCOLA_PRIVADA      float64\n",
      "IN_CONVENIADA_PP                 float64\n",
      "TP_CONVENIO_PODER_PUBLICO        float64\n",
      "IN_MANT_ESCOLA_PRIVADA_EMP       float64\n",
      "IN_MANT_ESCOLA_PRIVADA_ONG       float64\n",
      "IN_MANT_ESCOLA_PRIVADA_SIND      float64\n",
      "IN_MANT_ESCOLA_PRIVADA_SIST_S    float64\n",
      "IN_MANT_ESCOLA_PRIVADA_S_FINS    float64\n",
      "TP_REGULAMENTACAO                int64\n",
      "TP_LOCALIZACAO_DIFERENCIADA      int64\n",
      "IN_EDUCACAO_INDIGENA             int64\n",
      "dtypes: float64(60), int64(32)\n",
      "memory usage: 2.7 GB\n"
     ]
    }
   ],
   "source": [
    "matriculas_2016.info()"
   ]
  },
  {
   "cell_type": "markdown",
   "metadata": {},
   "source": [
    "Como os datasets tem quantidades distintas de colunas, 93 no de 2015 e 92 no de 2016, vamos selecionar apenas as colunas presentes nos dois simultaneamente."
   ]
  },
  {
   "cell_type": "code",
   "execution_count": 23,
   "metadata": {},
   "outputs": [],
   "source": [
    "nomes_colunas_2015 = matriculas_2015.columns.tolist()\n",
    "nomes_colunas_2016 = matriculas_2016.columns.tolist()\n",
    "nomes_colunas_2015_2016 = list(set(nomes_colunas_2015).intersection(nomes_colunas_2016))\n",
    "nomes_colunas_retiradas_2016 = list(set(nomes_colunas_2015).difference(nomes_colunas_2016))"
   ]
  },
  {
   "cell_type": "code",
   "execution_count": 24,
   "metadata": {},
   "outputs": [
    {
     "data": {
      "text/plain": [
       "['TP_ETAPA_AGREGADA']"
      ]
     },
     "execution_count": 24,
     "metadata": {},
     "output_type": "execute_result"
    }
   ],
   "source": [
    "nomes_colunas_retiradas_2016"
   ]
  },
  {
   "cell_type": "code",
   "execution_count": 20,
   "metadata": {},
   "outputs": [],
   "source": [
    "indices_colunas_2015 = []\n",
    "for nome in nomes_colunas_2015_2016:\n",
    "    indice_coluna = matriculas_2015.columns.get_loc(nome)\n",
    "    indices_colunas_2015.append(indice_coluna)\n",
    "indices_colunas_2015.sort()"
   ]
  },
  {
   "cell_type": "code",
   "execution_count": 21,
   "metadata": {},
   "outputs": [
    {
     "data": {
      "text/plain": [
       "True"
      ]
     },
     "execution_count": 21,
     "metadata": {},
     "output_type": "execute_result"
    }
   ],
   "source": [
    "len(indices_colunas_2015) == len(matriculas_2016.columns.tolist())"
   ]
  },
  {
   "cell_type": "code",
   "execution_count": 22,
   "metadata": {},
   "outputs": [
    {
     "name": "stdout",
     "output_type": "stream",
     "text": [
      "0 - NU_ANO_CENSO\n",
      "1 - ID_MATRICULA\n",
      "2 - CO_PESSOA_FISICA\n",
      "3 - NU_DIA\n",
      "4 - NU_MES\n",
      "5 - NU_ANO\n",
      "6 - NU_IDADE_REFERENCIA\n",
      "7 - NU_IDADE\n",
      "8 - NU_DURACAO_TURMA\n",
      "9 - NU_DUR_ATIV_COMP_MESMA_REDE\n",
      "10 - NU_DUR_ATIV_COMP_OUTRAS_REDES\n",
      "11 - NU_DUR_AEE_MESMA_REDE\n",
      "12 - NU_DUR_AEE_OUTRAS_REDES\n",
      "13 - NU_DIAS_ATIVIDADE\n",
      "14 - TP_SEXO\n",
      "15 - TP_COR_RACA\n",
      "16 - TP_NACIONALIDADE\n",
      "17 - CO_PAIS_ORIGEM\n",
      "18 - CO_UF_NASC\n",
      "19 - CO_MUNICIPIO_NASC\n",
      "20 - CO_UF_END\n",
      "21 - CO_MUNICIPIO_END\n",
      "22 - TP_ZONA_RESIDENCIAL\n",
      "23 - TP_OUTRO_LOCAL_AULA\n",
      "24 - IN_TRANSPORTE_PUBLICO\n",
      "25 - TP_RESPONSAVEL_TRANSPORTE\n",
      "26 - IN_TRANSP_VANS_KOMBI\n",
      "27 - IN_TRANSP_MICRO_ONIBUS\n",
      "28 - IN_TRANSP_ONIBUS\n",
      "29 - IN_TRANSP_BICICLETA\n",
      "30 - IN_TRANSP_TR_ANIMAL\n",
      "31 - IN_TRANSP_OUTRO_VEICULO\n",
      "32 - IN_TRANSP_EMBAR_ATE5\n",
      "33 - IN_TRANSP_EMBAR_5A15\n",
      "34 - IN_TRANSP_EMBAR_15A35\n",
      "35 - IN_TRANSP_EMBAR_35\n",
      "36 - IN_TRANSP_TREM_METRO\n",
      "37 - IN_NECESSIDADE_ESPECIAL\n",
      "38 - IN_CEGUEIRA\n",
      "39 - IN_BAIXA_VISAO\n",
      "40 - IN_SURDEZ\n",
      "41 - IN_DEF_AUDITIVA\n",
      "42 - IN_SURDOCEGUEIRA\n",
      "43 - IN_DEF_FISICA\n",
      "44 - IN_DEF_INTELECTUAL\n",
      "45 - IN_DEF_MULTIPLA\n",
      "46 - IN_AUTISMO\n",
      "47 - IN_SINDROME_ASPERGER\n",
      "48 - IN_SINDROME_RETT\n",
      "49 - IN_TRANSTORNO_DI\n",
      "50 - IN_SUPERDOTACAO\n",
      "51 - IN_RECURSO_LEDOR\n",
      "52 - IN_RECURSO_TRANSCRICAO\n",
      "53 - IN_RECURSO_INTERPRETE\n",
      "54 - IN_RECURSO_LIBRAS\n",
      "55 - IN_RECURSO_LABIAL\n",
      "56 - IN_RECURSO_BRAILLE\n",
      "57 - IN_RECURSO_AMPLIADA_16\n",
      "58 - IN_RECURSO_AMPLIADA_20\n",
      "59 - IN_RECURSO_AMPLIADA_24\n",
      "60 - IN_RECURSO_NENHUM\n",
      "61 - TP_INGRESSO_FEDERAIS\n",
      "62 - TP_MEDIACAO_DIDATICO_PEDAGO\n",
      "63 - IN_ESPECIAL_EXCLUSIVA\n",
      "64 - IN_REGULAR\n",
      "65 - IN_EJA\n",
      "66 - IN_PROFISSIONALIZANTE\n",
      "67 - TP_ETAPA_ENSINO\n",
      "69 - ID_TURMA\n",
      "70 - CO_CURSO_EDUC_PROFISSIONAL\n",
      "71 - TP_UNIFICADA\n",
      "72 - TP_TIPO_TURMA\n",
      "73 - CO_ENTIDADE\n",
      "74 - CO_REGIAO\n",
      "75 - CO_MESORREGIAO\n",
      "76 - CO_MICRORREGIAO\n",
      "77 - CO_UF\n",
      "78 - CO_MUNICIPIO\n",
      "79 - CO_DISTRITO\n",
      "80 - TP_DEPENDENCIA\n",
      "81 - TP_LOCALIZACAO\n",
      "82 - TP_CATEGORIA_ESCOLA_PRIVADA\n",
      "83 - IN_CONVENIADA_PP\n",
      "84 - TP_CONVENIO_PODER_PUBLICO\n",
      "85 - IN_MANT_ESCOLA_PRIVADA_EMP\n",
      "86 - IN_MANT_ESCOLA_PRIVADA_ONG\n",
      "87 - IN_MANT_ESCOLA_PRIVADA_SIND\n",
      "88 - IN_MANT_ESCOLA_PRIVADA_SIST_S\n",
      "89 - IN_MANT_ESCOLA_PRIVADA_S_FINS\n",
      "90 - TP_REGULAMENTACAO\n",
      "91 - TP_LOCALIZACAO_DIFERENCIADA\n",
      "92 - IN_EDUCACAO_INDIGENA\n"
     ]
    }
   ],
   "source": [
    "for indice in indices_colunas_2015:\n",
    "    nome_coluna = matriculas_2015.columns.tolist()[indice]\n",
    "    print(f'{indice} - {nome_coluna}')"
   ]
  },
  {
   "cell_type": "code",
   "execution_count": 25,
   "metadata": {},
   "outputs": [
    {
     "name": "stdout",
     "output_type": "stream",
     "text": [
      "[0, 1, 2, 3, 4, 5, 6, 7, 8, 9, 10, 11, 12, 13, 14, 15, 16, 17, 18, 19, 20, 21, 22, 23, 24, 25, 26, 27, 28, 29, 30, 31, 32, 33, 34, 35, 36, 37, 38, 39, 40, 41, 42, 43, 44, 45, 46, 47, 48, 49, 50, 51, 52, 53, 54, 55, 56, 57, 58, 59, 60, 61, 62, 63, 64, 65, 66, 67, 69, 70, 71, 72, 73, 74, 75, 76, 77, 78, 79, 80, 81, 82, 83, 84, 85, 86, 87, 88, 89, 90, 91, 92]\n"
     ]
    }
   ],
   "source": [
    "print(indices_colunas_2015)"
   ]
  },
  {
   "cell_type": "code",
   "execution_count": 27,
   "metadata": {},
   "outputs": [],
   "source": [
    "indices_colunas_2015_selecionadas = [6, 7, 14, 15, 22, 23, 24, 25, 26, 27, 28, 29, 30, 31, 32, 33, 34, 35, 36, 37, 38, 39, 40, 41, 42, 43, 44, 45, 46, 47, 48, 49, 50, 51, 52, 53, 54, 55, 56, 57, 58, 59, 60]"
   ]
  },
  {
   "cell_type": "code",
   "execution_count": 32,
   "metadata": {},
   "outputs": [],
   "source": [
    "matriculas_2015_selecionado = matriculas_2015.iloc[:, indices_colunas_2015_selecionadas]"
   ]
  },
  {
   "cell_type": "code",
   "execution_count": 33,
   "metadata": {},
   "outputs": [
    {
     "name": "stdout",
     "output_type": "stream",
     "text": [
      "<class 'pandas.core.frame.DataFrame'>\n",
      "RangeIndex: 4064193 entries, 0 to 4064192\n",
      "Data columns (total 43 columns):\n",
      "NU_IDADE_REFERENCIA          int64\n",
      "NU_IDADE                     int64\n",
      "TP_SEXO                      int64\n",
      "TP_COR_RACA                  int64\n",
      "TP_ZONA_RESIDENCIAL          int64\n",
      "TP_OUTRO_LOCAL_AULA          int64\n",
      "IN_TRANSPORTE_PUBLICO        int64\n",
      "TP_RESPONSAVEL_TRANSPORTE    float64\n",
      "IN_TRANSP_VANS_KOMBI         float64\n",
      "IN_TRANSP_MICRO_ONIBUS       float64\n",
      "IN_TRANSP_ONIBUS             float64\n",
      "IN_TRANSP_BICICLETA          float64\n",
      "IN_TRANSP_TR_ANIMAL          float64\n",
      "IN_TRANSP_OUTRO_VEICULO      float64\n",
      "IN_TRANSP_EMBAR_ATE5         float64\n",
      "IN_TRANSP_EMBAR_5A15         float64\n",
      "IN_TRANSP_EMBAR_15A35        float64\n",
      "IN_TRANSP_EMBAR_35           float64\n",
      "IN_TRANSP_TREM_METRO         float64\n",
      "IN_NECESSIDADE_ESPECIAL      int64\n",
      "IN_CEGUEIRA                  float64\n",
      "IN_BAIXA_VISAO               float64\n",
      "IN_SURDEZ                    float64\n",
      "IN_DEF_AUDITIVA              float64\n",
      "IN_SURDOCEGUEIRA             float64\n",
      "IN_DEF_FISICA                float64\n",
      "IN_DEF_INTELECTUAL           float64\n",
      "IN_DEF_MULTIPLA              float64\n",
      "IN_AUTISMO                   float64\n",
      "IN_SINDROME_ASPERGER         float64\n",
      "IN_SINDROME_RETT             float64\n",
      "IN_TRANSTORNO_DI             float64\n",
      "IN_SUPERDOTACAO              float64\n",
      "IN_RECURSO_LEDOR             float64\n",
      "IN_RECURSO_TRANSCRICAO       float64\n",
      "IN_RECURSO_INTERPRETE        float64\n",
      "IN_RECURSO_LIBRAS            float64\n",
      "IN_RECURSO_LABIAL            float64\n",
      "IN_RECURSO_BRAILLE           float64\n",
      "IN_RECURSO_AMPLIADA_16       float64\n",
      "IN_RECURSO_AMPLIADA_20       float64\n",
      "IN_RECURSO_AMPLIADA_24       float64\n",
      "IN_RECURSO_NENHUM            float64\n",
      "dtypes: float64(35), int64(8)\n",
      "memory usage: 1.3 GB\n"
     ]
    }
   ],
   "source": [
    "matriculas_2015_selecionado.info()"
   ]
  },
  {
   "cell_type": "code",
   "execution_count": null,
   "metadata": {},
   "outputs": [],
   "source": []
  },
  {
   "cell_type": "code",
   "execution_count": null,
   "metadata": {},
   "outputs": [],
   "source": []
  },
  {
   "cell_type": "code",
   "execution_count": null,
   "metadata": {},
   "outputs": [],
   "source": []
  },
  {
   "cell_type": "code",
   "execution_count": null,
   "metadata": {},
   "outputs": [],
   "source": []
  },
  {
   "attachments": {},
   "cell_type": "markdown",
   "metadata": {},
   "source": [
    "#### Etapas do Ensino Fundamental (TP_ETAPA_ENSINO)\n",
    "\n",
    "##### Anos iniciais\n",
    "* 4 - Ensino Fundamental de 8 anos - 1ª Série\n",
    "* 5 - Ensino Fundamental de 8 anos - 2ª Série\n",
    "* 6 - Ensino Fundamental de 8 anos - 3ª Série\n",
    "* 7 - Ensino Fundamental de 8 anos - 4ª Série\n",
    "* 14 - Ensino Fundamental de 9 anos - 1º Ano\n",
    "* 15 - Ensino Fundamental de 9 anos - 2º Ano\n",
    "* 16 - Ensino Fundamental de 9 anos - 3º Ano\n",
    "* 17 - Ensino Fundamental de 9 anos - 4º Ano\n",
    "* 18 - Ensino Fundamental de 9 anos - 5º Ano\n",
    "\n",
    "##### Anos finais\n",
    "* 8 - Ensino Fundamental de 8 anos - 5ª Série\n",
    "* 9 - Ensino Fundamental de 8 anos - 6ª Série\n",
    "* 10 - Ensino Fundamental de 8 anos - 7ª Série\n",
    "* 11 - Ensino Fundamental de 8 anos - 8ª Série\n",
    "* 19 - Ensino Fundamental de 9 anos - 6º Ano\n",
    "* 20 - Ensino Fundamental de 9 anos - 7º Ano\n",
    "* 21 - Ensino Fundamental de 9 anos - 8º Ano\n",
    "* 41 - Ensino Fundamental de 9 anos - 9º Ano"
   ]
  },
  {
   "cell_type": "code",
   "execution_count": 26,
   "metadata": {},
   "outputs": [],
   "source": [
    "etapas_fundamental_anos_iniciais = [4, 5, 6, 7, 14, 15, 16, 17, 18]\n",
    "etapas_fundamental_anos_finais = [8, 9, 10, 11, 19, 20, 21, 41]\n",
    "etapas_fundamental = etapas_fundamental_anos_iniciais + etapas_fundamental_anos_finais"
   ]
  },
  {
   "attachments": {},
   "cell_type": "markdown",
   "metadata": {},
   "source": [
    "#### Outros filtros realizados:\n",
    "* IN_REGULAR: 1 (Ensino regular)\n",
    "* CO_UF: 53 (Distrito Federal)\n",
    "* TP_MEDIACAO_DIDATICO_PEDAGO: 1 (Presencial)\n",
    "* IN_ESPECIAL_EXCLUSIVA: 0 (Não é turma exclusiva de alunos com deficiência)"
   ]
  },
  {
   "cell_type": "code",
   "execution_count": 28,
   "metadata": {},
   "outputs": [],
   "source": [
    "matriculas_2015_fundamental_df = matriculas_2015.loc[\n",
    "    (matriculas_2015['IN_REGULAR'] == 1) & \n",
    "    (matriculas_2015['TP_ETAPA_ENSINO'].isin(etapas_fundamental)) & \n",
    "    (matriculas_2015['CO_UF'] == 53) &\n",
    "    (matriculas_2015['TP_MEDIACAO_DIDATICO_PEDAGO'] == 1) &\n",
    "    (matriculas_2015['IN_ESPECIAL_EXCLUSIVA'] == 0),\n",
    "    ['CO_PESSOA_FISICA', 'TP_ETAPA_ENSINO']]"
   ]
  },
  {
   "cell_type": "code",
   "execution_count": 29,
   "metadata": {},
   "outputs": [],
   "source": [
    "matriculas_2016_fundamental_df = matriculas_2016.loc[\n",
    "    (matriculas_2016['IN_REGULAR'] == 1) & \n",
    "    (matriculas_2016['TP_ETAPA_ENSINO'].isin(etapas_fundamental)) & \n",
    "    (matriculas_2016['CO_UF'] == 53) &\n",
    "    (matriculas_2016['TP_MEDIACAO_DIDATICO_PEDAGO'] == 1) &\n",
    "    (matriculas_2016['IN_ESPECIAL_EXCLUSIVA'] == 0),\n",
    "    ['CO_PESSOA_FISICA', 'TP_ETAPA_ENSINO']]"
   ]
  },
  {
   "cell_type": "code",
   "execution_count": 30,
   "metadata": {},
   "outputs": [],
   "source": [
    "matriculas_2015_2016_fundamental_df = matriculas_2015_fundamental_df.merge(matriculas_2016_fundamental_df, how='inner', left_on='CO_PESSOA_FISICA', right_on='CO_PESSOA_FISICA')"
   ]
  },
  {
   "cell_type": "code",
   "execution_count": null,
   "metadata": {},
   "outputs": [],
   "source": [
    "matriculas_2015_2016_fundamental_df.loc[matriculas_2015_2016_fundamental_df['TP_ETAPA_ENSINO_x'] == matriculas_2015_2016_fundamental_df['TP_ETAPA_ENSINO_y'], 'CO_PESSOA_FISICA']"
   ]
  },
  {
   "cell_type": "code",
   "execution_count": null,
   "metadata": {},
   "outputs": [],
   "source": [
    "matriculas_2015_fundamental_df[]"
   ]
  },
  {
   "cell_type": "code",
   "execution_count": null,
   "metadata": {},
   "outputs": [],
   "source": []
  },
  {
   "cell_type": "code",
   "execution_count": null,
   "metadata": {},
   "outputs": [],
   "source": []
  }
 ],
 "metadata": {
  "kernelspec": {
   "display_name": "Python 3",
   "language": "python",
   "name": "python3"
  },
  "language_info": {
   "codemirror_mode": {
    "name": "ipython",
    "version": 3
   },
   "file_extension": ".py",
   "mimetype": "text/x-python",
   "name": "python",
   "nbconvert_exporter": "python",
   "pygments_lexer": "ipython3",
   "version": "3.7.3"
  }
 },
 "nbformat": 4,
 "nbformat_minor": 2
}
