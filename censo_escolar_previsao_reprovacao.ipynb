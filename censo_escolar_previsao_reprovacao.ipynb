{
 "cells": [
  {
   "cell_type": "markdown",
   "metadata": {},
   "source": [
    "# Comparação entre os Censos Escolares de 2015 a 2018"
   ]
  },
  {
   "cell_type": "markdown",
   "metadata": {},
   "source": [
    "## Primeiro passo: criar um dataset com apenas as colunas que serão utilizadas para treinar o modelo"
   ]
  },
  {
   "cell_type": "markdown",
   "metadata": {},
   "source": [
    "Importando o pacote pandas"
   ]
  },
  {
   "cell_type": "code",
   "execution_count": 1,
   "metadata": {},
   "outputs": [],
   "source": [
    "import pandas as pd"
   ]
  },
  {
   "cell_type": "markdown",
   "metadata": {},
   "source": [
    "Importando os datasets de 2015 e 2016"
   ]
  },
  {
   "cell_type": "code",
   "execution_count": 2,
   "metadata": {},
   "outputs": [],
   "source": [
    "matriculas_2015 = pd.read_csv('dataset/2015/MATRICULA_CO.CSV', sep='|')"
   ]
  },
  {
   "cell_type": "code",
   "execution_count": 3,
   "metadata": {},
   "outputs": [],
   "source": [
    "matriculas_2016 = pd.read_csv('dataset/2016/MATRICULA_CO.CSV', sep='|')"
   ]
  },
  {
   "cell_type": "code",
   "execution_count": 37,
   "metadata": {},
   "outputs": [
    {
     "ename": "MemoryError",
     "evalue": "",
     "output_type": "error",
     "traceback": [
      "\u001b[1;31m---------------------------------------------------------------------------\u001b[0m",
      "\u001b[1;31mMemoryError\u001b[0m                               Traceback (most recent call last)",
      "\u001b[1;32m<ipython-input-37-953c0c91b836>\u001b[0m in \u001b[0;36m<module>\u001b[1;34m\u001b[0m\n\u001b[1;32m----> 1\u001b[1;33m \u001b[0mmatriculas_2017\u001b[0m \u001b[1;33m=\u001b[0m \u001b[0mpd\u001b[0m\u001b[1;33m.\u001b[0m\u001b[0mread_csv\u001b[0m\u001b[1;33m(\u001b[0m\u001b[1;34m'dataset/2017/MATRICULA_CO.CSV'\u001b[0m\u001b[1;33m,\u001b[0m \u001b[0msep\u001b[0m\u001b[1;33m=\u001b[0m\u001b[1;34m'|'\u001b[0m\u001b[1;33m)\u001b[0m\u001b[1;33m\u001b[0m\u001b[1;33m\u001b[0m\u001b[0m\n\u001b[0m",
      "\u001b[1;32m~\\Anaconda3\\lib\\site-packages\\pandas\\io\\parsers.py\u001b[0m in \u001b[0;36mparser_f\u001b[1;34m(filepath_or_buffer, sep, delimiter, header, names, index_col, usecols, squeeze, prefix, mangle_dupe_cols, dtype, engine, converters, true_values, false_values, skipinitialspace, skiprows, skipfooter, nrows, na_values, keep_default_na, na_filter, verbose, skip_blank_lines, parse_dates, infer_datetime_format, keep_date_col, date_parser, dayfirst, cache_dates, iterator, chunksize, compression, thousands, decimal, lineterminator, quotechar, quoting, doublequote, escapechar, comment, encoding, dialect, error_bad_lines, warn_bad_lines, delim_whitespace, low_memory, memory_map, float_precision)\u001b[0m\n\u001b[0;32m    683\u001b[0m         )\n\u001b[0;32m    684\u001b[0m \u001b[1;33m\u001b[0m\u001b[0m\n\u001b[1;32m--> 685\u001b[1;33m         \u001b[1;32mreturn\u001b[0m \u001b[0m_read\u001b[0m\u001b[1;33m(\u001b[0m\u001b[0mfilepath_or_buffer\u001b[0m\u001b[1;33m,\u001b[0m \u001b[0mkwds\u001b[0m\u001b[1;33m)\u001b[0m\u001b[1;33m\u001b[0m\u001b[1;33m\u001b[0m\u001b[0m\n\u001b[0m\u001b[0;32m    686\u001b[0m \u001b[1;33m\u001b[0m\u001b[0m\n\u001b[0;32m    687\u001b[0m     \u001b[0mparser_f\u001b[0m\u001b[1;33m.\u001b[0m\u001b[0m__name__\u001b[0m \u001b[1;33m=\u001b[0m \u001b[0mname\u001b[0m\u001b[1;33m\u001b[0m\u001b[1;33m\u001b[0m\u001b[0m\n",
      "\u001b[1;32m~\\Anaconda3\\lib\\site-packages\\pandas\\io\\parsers.py\u001b[0m in \u001b[0;36m_read\u001b[1;34m(filepath_or_buffer, kwds)\u001b[0m\n\u001b[0;32m    461\u001b[0m \u001b[1;33m\u001b[0m\u001b[0m\n\u001b[0;32m    462\u001b[0m     \u001b[1;32mtry\u001b[0m\u001b[1;33m:\u001b[0m\u001b[1;33m\u001b[0m\u001b[1;33m\u001b[0m\u001b[0m\n\u001b[1;32m--> 463\u001b[1;33m         \u001b[0mdata\u001b[0m \u001b[1;33m=\u001b[0m \u001b[0mparser\u001b[0m\u001b[1;33m.\u001b[0m\u001b[0mread\u001b[0m\u001b[1;33m(\u001b[0m\u001b[0mnrows\u001b[0m\u001b[1;33m)\u001b[0m\u001b[1;33m\u001b[0m\u001b[1;33m\u001b[0m\u001b[0m\n\u001b[0m\u001b[0;32m    464\u001b[0m     \u001b[1;32mfinally\u001b[0m\u001b[1;33m:\u001b[0m\u001b[1;33m\u001b[0m\u001b[1;33m\u001b[0m\u001b[0m\n\u001b[0;32m    465\u001b[0m         \u001b[0mparser\u001b[0m\u001b[1;33m.\u001b[0m\u001b[0mclose\u001b[0m\u001b[1;33m(\u001b[0m\u001b[1;33m)\u001b[0m\u001b[1;33m\u001b[0m\u001b[1;33m\u001b[0m\u001b[0m\n",
      "\u001b[1;32m~\\Anaconda3\\lib\\site-packages\\pandas\\io\\parsers.py\u001b[0m in \u001b[0;36mread\u001b[1;34m(self, nrows)\u001b[0m\n\u001b[0;32m   1167\u001b[0m             \u001b[0mnew_rows\u001b[0m \u001b[1;33m=\u001b[0m \u001b[0mlen\u001b[0m\u001b[1;33m(\u001b[0m\u001b[0mindex\u001b[0m\u001b[1;33m)\u001b[0m\u001b[1;33m\u001b[0m\u001b[1;33m\u001b[0m\u001b[0m\n\u001b[0;32m   1168\u001b[0m \u001b[1;33m\u001b[0m\u001b[0m\n\u001b[1;32m-> 1169\u001b[1;33m         \u001b[0mdf\u001b[0m \u001b[1;33m=\u001b[0m \u001b[0mDataFrame\u001b[0m\u001b[1;33m(\u001b[0m\u001b[0mcol_dict\u001b[0m\u001b[1;33m,\u001b[0m \u001b[0mcolumns\u001b[0m\u001b[1;33m=\u001b[0m\u001b[0mcolumns\u001b[0m\u001b[1;33m,\u001b[0m \u001b[0mindex\u001b[0m\u001b[1;33m=\u001b[0m\u001b[0mindex\u001b[0m\u001b[1;33m)\u001b[0m\u001b[1;33m\u001b[0m\u001b[1;33m\u001b[0m\u001b[0m\n\u001b[0m\u001b[0;32m   1170\u001b[0m \u001b[1;33m\u001b[0m\u001b[0m\n\u001b[0;32m   1171\u001b[0m         \u001b[0mself\u001b[0m\u001b[1;33m.\u001b[0m\u001b[0m_currow\u001b[0m \u001b[1;33m+=\u001b[0m \u001b[0mnew_rows\u001b[0m\u001b[1;33m\u001b[0m\u001b[1;33m\u001b[0m\u001b[0m\n",
      "\u001b[1;32m~\\Anaconda3\\lib\\site-packages\\pandas\\core\\frame.py\u001b[0m in \u001b[0;36m__init__\u001b[1;34m(self, data, index, columns, dtype, copy)\u001b[0m\n\u001b[0;32m    409\u001b[0m             )\n\u001b[0;32m    410\u001b[0m         \u001b[1;32melif\u001b[0m \u001b[0misinstance\u001b[0m\u001b[1;33m(\u001b[0m\u001b[0mdata\u001b[0m\u001b[1;33m,\u001b[0m \u001b[0mdict\u001b[0m\u001b[1;33m)\u001b[0m\u001b[1;33m:\u001b[0m\u001b[1;33m\u001b[0m\u001b[1;33m\u001b[0m\u001b[0m\n\u001b[1;32m--> 411\u001b[1;33m             \u001b[0mmgr\u001b[0m \u001b[1;33m=\u001b[0m \u001b[0minit_dict\u001b[0m\u001b[1;33m(\u001b[0m\u001b[0mdata\u001b[0m\u001b[1;33m,\u001b[0m \u001b[0mindex\u001b[0m\u001b[1;33m,\u001b[0m \u001b[0mcolumns\u001b[0m\u001b[1;33m,\u001b[0m \u001b[0mdtype\u001b[0m\u001b[1;33m=\u001b[0m\u001b[0mdtype\u001b[0m\u001b[1;33m)\u001b[0m\u001b[1;33m\u001b[0m\u001b[1;33m\u001b[0m\u001b[0m\n\u001b[0m\u001b[0;32m    412\u001b[0m         \u001b[1;32melif\u001b[0m \u001b[0misinstance\u001b[0m\u001b[1;33m(\u001b[0m\u001b[0mdata\u001b[0m\u001b[1;33m,\u001b[0m \u001b[0mma\u001b[0m\u001b[1;33m.\u001b[0m\u001b[0mMaskedArray\u001b[0m\u001b[1;33m)\u001b[0m\u001b[1;33m:\u001b[0m\u001b[1;33m\u001b[0m\u001b[1;33m\u001b[0m\u001b[0m\n\u001b[0;32m    413\u001b[0m             \u001b[1;32mimport\u001b[0m \u001b[0mnumpy\u001b[0m\u001b[1;33m.\u001b[0m\u001b[0mma\u001b[0m\u001b[1;33m.\u001b[0m\u001b[0mmrecords\u001b[0m \u001b[1;32mas\u001b[0m \u001b[0mmrecords\u001b[0m\u001b[1;33m\u001b[0m\u001b[1;33m\u001b[0m\u001b[0m\n",
      "\u001b[1;32m~\\Anaconda3\\lib\\site-packages\\pandas\\core\\internals\\construction.py\u001b[0m in \u001b[0;36minit_dict\u001b[1;34m(data, index, columns, dtype)\u001b[0m\n\u001b[0;32m    255\u001b[0m             \u001b[0marr\u001b[0m \u001b[1;32mif\u001b[0m \u001b[1;32mnot\u001b[0m \u001b[0mis_datetime64tz_dtype\u001b[0m\u001b[1;33m(\u001b[0m\u001b[0marr\u001b[0m\u001b[1;33m)\u001b[0m \u001b[1;32melse\u001b[0m \u001b[0marr\u001b[0m\u001b[1;33m.\u001b[0m\u001b[0mcopy\u001b[0m\u001b[1;33m(\u001b[0m\u001b[1;33m)\u001b[0m \u001b[1;32mfor\u001b[0m \u001b[0marr\u001b[0m \u001b[1;32min\u001b[0m \u001b[0marrays\u001b[0m\u001b[1;33m\u001b[0m\u001b[1;33m\u001b[0m\u001b[0m\n\u001b[0;32m    256\u001b[0m         ]\n\u001b[1;32m--> 257\u001b[1;33m     \u001b[1;32mreturn\u001b[0m \u001b[0marrays_to_mgr\u001b[0m\u001b[1;33m(\u001b[0m\u001b[0marrays\u001b[0m\u001b[1;33m,\u001b[0m \u001b[0mdata_names\u001b[0m\u001b[1;33m,\u001b[0m \u001b[0mindex\u001b[0m\u001b[1;33m,\u001b[0m \u001b[0mcolumns\u001b[0m\u001b[1;33m,\u001b[0m \u001b[0mdtype\u001b[0m\u001b[1;33m=\u001b[0m\u001b[0mdtype\u001b[0m\u001b[1;33m)\u001b[0m\u001b[1;33m\u001b[0m\u001b[1;33m\u001b[0m\u001b[0m\n\u001b[0m\u001b[0;32m    258\u001b[0m \u001b[1;33m\u001b[0m\u001b[0m\n\u001b[0;32m    259\u001b[0m \u001b[1;33m\u001b[0m\u001b[0m\n",
      "\u001b[1;32m~\\Anaconda3\\lib\\site-packages\\pandas\\core\\internals\\construction.py\u001b[0m in \u001b[0;36marrays_to_mgr\u001b[1;34m(arrays, arr_names, index, columns, dtype)\u001b[0m\n\u001b[0;32m     85\u001b[0m     \u001b[0maxes\u001b[0m \u001b[1;33m=\u001b[0m \u001b[1;33m[\u001b[0m\u001b[0mensure_index\u001b[0m\u001b[1;33m(\u001b[0m\u001b[0mcolumns\u001b[0m\u001b[1;33m)\u001b[0m\u001b[1;33m,\u001b[0m \u001b[0mindex\u001b[0m\u001b[1;33m]\u001b[0m\u001b[1;33m\u001b[0m\u001b[1;33m\u001b[0m\u001b[0m\n\u001b[0;32m     86\u001b[0m \u001b[1;33m\u001b[0m\u001b[0m\n\u001b[1;32m---> 87\u001b[1;33m     \u001b[1;32mreturn\u001b[0m \u001b[0mcreate_block_manager_from_arrays\u001b[0m\u001b[1;33m(\u001b[0m\u001b[0marrays\u001b[0m\u001b[1;33m,\u001b[0m \u001b[0marr_names\u001b[0m\u001b[1;33m,\u001b[0m \u001b[0maxes\u001b[0m\u001b[1;33m)\u001b[0m\u001b[1;33m\u001b[0m\u001b[1;33m\u001b[0m\u001b[0m\n\u001b[0m\u001b[0;32m     88\u001b[0m \u001b[1;33m\u001b[0m\u001b[0m\n\u001b[0;32m     89\u001b[0m \u001b[1;33m\u001b[0m\u001b[0m\n",
      "\u001b[1;32m~\\Anaconda3\\lib\\site-packages\\pandas\\core\\internals\\managers.py\u001b[0m in \u001b[0;36mcreate_block_manager_from_arrays\u001b[1;34m(arrays, names, axes)\u001b[0m\n\u001b[0;32m   1692\u001b[0m \u001b[1;33m\u001b[0m\u001b[0m\n\u001b[0;32m   1693\u001b[0m     \u001b[1;32mtry\u001b[0m\u001b[1;33m:\u001b[0m\u001b[1;33m\u001b[0m\u001b[1;33m\u001b[0m\u001b[0m\n\u001b[1;32m-> 1694\u001b[1;33m         \u001b[0mblocks\u001b[0m \u001b[1;33m=\u001b[0m \u001b[0mform_blocks\u001b[0m\u001b[1;33m(\u001b[0m\u001b[0marrays\u001b[0m\u001b[1;33m,\u001b[0m \u001b[0mnames\u001b[0m\u001b[1;33m,\u001b[0m \u001b[0maxes\u001b[0m\u001b[1;33m)\u001b[0m\u001b[1;33m\u001b[0m\u001b[1;33m\u001b[0m\u001b[0m\n\u001b[0m\u001b[0;32m   1695\u001b[0m         \u001b[0mmgr\u001b[0m \u001b[1;33m=\u001b[0m \u001b[0mBlockManager\u001b[0m\u001b[1;33m(\u001b[0m\u001b[0mblocks\u001b[0m\u001b[1;33m,\u001b[0m \u001b[0maxes\u001b[0m\u001b[1;33m)\u001b[0m\u001b[1;33m\u001b[0m\u001b[1;33m\u001b[0m\u001b[0m\n\u001b[0;32m   1696\u001b[0m         \u001b[0mmgr\u001b[0m\u001b[1;33m.\u001b[0m\u001b[0m_consolidate_inplace\u001b[0m\u001b[1;33m(\u001b[0m\u001b[1;33m)\u001b[0m\u001b[1;33m\u001b[0m\u001b[1;33m\u001b[0m\u001b[0m\n",
      "\u001b[1;32m~\\Anaconda3\\lib\\site-packages\\pandas\\core\\internals\\managers.py\u001b[0m in \u001b[0;36mform_blocks\u001b[1;34m(arrays, names, axes)\u001b[0m\n\u001b[0;32m   1750\u001b[0m     \u001b[0mblocks\u001b[0m \u001b[1;33m=\u001b[0m \u001b[1;33m[\u001b[0m\u001b[1;33m]\u001b[0m\u001b[1;33m\u001b[0m\u001b[1;33m\u001b[0m\u001b[0m\n\u001b[0;32m   1751\u001b[0m     \u001b[1;32mif\u001b[0m \u001b[0mlen\u001b[0m\u001b[1;33m(\u001b[0m\u001b[0mitems_dict\u001b[0m\u001b[1;33m[\u001b[0m\u001b[1;34m\"FloatBlock\"\u001b[0m\u001b[1;33m]\u001b[0m\u001b[1;33m)\u001b[0m\u001b[1;33m:\u001b[0m\u001b[1;33m\u001b[0m\u001b[1;33m\u001b[0m\u001b[0m\n\u001b[1;32m-> 1752\u001b[1;33m         \u001b[0mfloat_blocks\u001b[0m \u001b[1;33m=\u001b[0m \u001b[0m_multi_blockify\u001b[0m\u001b[1;33m(\u001b[0m\u001b[0mitems_dict\u001b[0m\u001b[1;33m[\u001b[0m\u001b[1;34m\"FloatBlock\"\u001b[0m\u001b[1;33m]\u001b[0m\u001b[1;33m)\u001b[0m\u001b[1;33m\u001b[0m\u001b[1;33m\u001b[0m\u001b[0m\n\u001b[0m\u001b[0;32m   1753\u001b[0m         \u001b[0mblocks\u001b[0m\u001b[1;33m.\u001b[0m\u001b[0mextend\u001b[0m\u001b[1;33m(\u001b[0m\u001b[0mfloat_blocks\u001b[0m\u001b[1;33m)\u001b[0m\u001b[1;33m\u001b[0m\u001b[1;33m\u001b[0m\u001b[0m\n\u001b[0;32m   1754\u001b[0m \u001b[1;33m\u001b[0m\u001b[0m\n",
      "\u001b[1;32m~\\Anaconda3\\lib\\site-packages\\pandas\\core\\internals\\managers.py\u001b[0m in \u001b[0;36m_multi_blockify\u001b[1;34m(tuples, dtype)\u001b[0m\n\u001b[0;32m   1844\u001b[0m     \u001b[1;32mfor\u001b[0m \u001b[0mdtype\u001b[0m\u001b[1;33m,\u001b[0m \u001b[0mtup_block\u001b[0m \u001b[1;32min\u001b[0m \u001b[0mgrouper\u001b[0m\u001b[1;33m:\u001b[0m\u001b[1;33m\u001b[0m\u001b[1;33m\u001b[0m\u001b[0m\n\u001b[0;32m   1845\u001b[0m \u001b[1;33m\u001b[0m\u001b[0m\n\u001b[1;32m-> 1846\u001b[1;33m         \u001b[0mvalues\u001b[0m\u001b[1;33m,\u001b[0m \u001b[0mplacement\u001b[0m \u001b[1;33m=\u001b[0m \u001b[0m_stack_arrays\u001b[0m\u001b[1;33m(\u001b[0m\u001b[0mlist\u001b[0m\u001b[1;33m(\u001b[0m\u001b[0mtup_block\u001b[0m\u001b[1;33m)\u001b[0m\u001b[1;33m,\u001b[0m \u001b[0mdtype\u001b[0m\u001b[1;33m)\u001b[0m\u001b[1;33m\u001b[0m\u001b[1;33m\u001b[0m\u001b[0m\n\u001b[0m\u001b[0;32m   1847\u001b[0m \u001b[1;33m\u001b[0m\u001b[0m\n\u001b[0;32m   1848\u001b[0m         \u001b[0mblock\u001b[0m \u001b[1;33m=\u001b[0m \u001b[0mmake_block\u001b[0m\u001b[1;33m(\u001b[0m\u001b[0mvalues\u001b[0m\u001b[1;33m,\u001b[0m \u001b[0mplacement\u001b[0m\u001b[1;33m=\u001b[0m\u001b[0mplacement\u001b[0m\u001b[1;33m)\u001b[0m\u001b[1;33m\u001b[0m\u001b[1;33m\u001b[0m\u001b[0m\n",
      "\u001b[1;32m~\\Anaconda3\\lib\\site-packages\\pandas\\core\\internals\\managers.py\u001b[0m in \u001b[0;36m_stack_arrays\u001b[1;34m(tuples, dtype)\u001b[0m\n\u001b[0;32m   1872\u001b[0m     \u001b[0mshape\u001b[0m \u001b[1;33m=\u001b[0m \u001b[1;33m(\u001b[0m\u001b[0mlen\u001b[0m\u001b[1;33m(\u001b[0m\u001b[0marrays\u001b[0m\u001b[1;33m)\u001b[0m\u001b[1;33m,\u001b[0m\u001b[1;33m)\u001b[0m \u001b[1;33m+\u001b[0m \u001b[0m_shape_compat\u001b[0m\u001b[1;33m(\u001b[0m\u001b[0mfirst\u001b[0m\u001b[1;33m)\u001b[0m\u001b[1;33m\u001b[0m\u001b[1;33m\u001b[0m\u001b[0m\n\u001b[0;32m   1873\u001b[0m \u001b[1;33m\u001b[0m\u001b[0m\n\u001b[1;32m-> 1874\u001b[1;33m     \u001b[0mstacked\u001b[0m \u001b[1;33m=\u001b[0m \u001b[0mnp\u001b[0m\u001b[1;33m.\u001b[0m\u001b[0mempty\u001b[0m\u001b[1;33m(\u001b[0m\u001b[0mshape\u001b[0m\u001b[1;33m,\u001b[0m \u001b[0mdtype\u001b[0m\u001b[1;33m=\u001b[0m\u001b[0mdtype\u001b[0m\u001b[1;33m)\u001b[0m\u001b[1;33m\u001b[0m\u001b[1;33m\u001b[0m\u001b[0m\n\u001b[0m\u001b[0;32m   1875\u001b[0m     \u001b[1;32mfor\u001b[0m \u001b[0mi\u001b[0m\u001b[1;33m,\u001b[0m \u001b[0marr\u001b[0m \u001b[1;32min\u001b[0m \u001b[0menumerate\u001b[0m\u001b[1;33m(\u001b[0m\u001b[0marrays\u001b[0m\u001b[1;33m)\u001b[0m\u001b[1;33m:\u001b[0m\u001b[1;33m\u001b[0m\u001b[1;33m\u001b[0m\u001b[0m\n\u001b[0;32m   1876\u001b[0m         \u001b[0mstacked\u001b[0m\u001b[1;33m[\u001b[0m\u001b[0mi\u001b[0m\u001b[1;33m]\u001b[0m \u001b[1;33m=\u001b[0m \u001b[0m_asarray_compat\u001b[0m\u001b[1;33m(\u001b[0m\u001b[0marr\u001b[0m\u001b[1;33m)\u001b[0m\u001b[1;33m\u001b[0m\u001b[1;33m\u001b[0m\u001b[0m\n",
      "\u001b[1;31mMemoryError\u001b[0m: "
     ]
    }
   ],
   "source": [
    "matriculas_2017 = pd.read_csv('dataset/2017/MATRICULA_CO.CSV', sep='|')"
   ]
  },
  {
   "cell_type": "markdown",
   "metadata": {},
   "source": [
    "Analisando o conteúdo dos datasets"
   ]
  },
  {
   "cell_type": "code",
   "execution_count": 4,
   "metadata": {},
   "outputs": [
    {
     "name": "stdout",
     "output_type": "stream",
     "text": [
      "<class 'pandas.core.frame.DataFrame'>\n",
      "RangeIndex: 4064193 entries, 0 to 4064192\n",
      "Data columns (total 93 columns):\n",
      "NU_ANO_CENSO                     int64\n",
      "ID_MATRICULA                     int64\n",
      "CO_PESSOA_FISICA                 int64\n",
      "NU_DIA                           int64\n",
      "NU_MES                           int64\n",
      "NU_ANO                           int64\n",
      "NU_IDADE_REFERENCIA              int64\n",
      "NU_IDADE                         int64\n",
      "NU_DURACAO_TURMA                 float64\n",
      "NU_DUR_ATIV_COMP_MESMA_REDE      float64\n",
      "NU_DUR_ATIV_COMP_OUTRAS_REDES    float64\n",
      "NU_DUR_AEE_MESMA_REDE            float64\n",
      "NU_DUR_AEE_OUTRAS_REDES          float64\n",
      "NU_DIAS_ATIVIDADE                int64\n",
      "TP_SEXO                          int64\n",
      "TP_COR_RACA                      int64\n",
      "TP_NACIONALIDADE                 int64\n",
      "CO_PAIS_ORIGEM                   int64\n",
      "CO_UF_NASC                       float64\n",
      "CO_MUNICIPIO_NASC                float64\n",
      "CO_UF_END                        float64\n",
      "CO_MUNICIPIO_END                 float64\n",
      "TP_ZONA_RESIDENCIAL              int64\n",
      "TP_OUTRO_LOCAL_AULA              int64\n",
      "IN_TRANSPORTE_PUBLICO            int64\n",
      "TP_RESPONSAVEL_TRANSPORTE        float64\n",
      "IN_TRANSP_VANS_KOMBI             float64\n",
      "IN_TRANSP_MICRO_ONIBUS           float64\n",
      "IN_TRANSP_ONIBUS                 float64\n",
      "IN_TRANSP_BICICLETA              float64\n",
      "IN_TRANSP_TR_ANIMAL              float64\n",
      "IN_TRANSP_OUTRO_VEICULO          float64\n",
      "IN_TRANSP_EMBAR_ATE5             float64\n",
      "IN_TRANSP_EMBAR_5A15             float64\n",
      "IN_TRANSP_EMBAR_15A35            float64\n",
      "IN_TRANSP_EMBAR_35               float64\n",
      "IN_TRANSP_TREM_METRO             float64\n",
      "IN_NECESSIDADE_ESPECIAL          int64\n",
      "IN_CEGUEIRA                      float64\n",
      "IN_BAIXA_VISAO                   float64\n",
      "IN_SURDEZ                        float64\n",
      "IN_DEF_AUDITIVA                  float64\n",
      "IN_SURDOCEGUEIRA                 float64\n",
      "IN_DEF_FISICA                    float64\n",
      "IN_DEF_INTELECTUAL               float64\n",
      "IN_DEF_MULTIPLA                  float64\n",
      "IN_AUTISMO                       float64\n",
      "IN_SINDROME_ASPERGER             float64\n",
      "IN_SINDROME_RETT                 float64\n",
      "IN_TRANSTORNO_DI                 float64\n",
      "IN_SUPERDOTACAO                  float64\n",
      "IN_RECURSO_LEDOR                 float64\n",
      "IN_RECURSO_TRANSCRICAO           float64\n",
      "IN_RECURSO_INTERPRETE            float64\n",
      "IN_RECURSO_LIBRAS                float64\n",
      "IN_RECURSO_LABIAL                float64\n",
      "IN_RECURSO_BRAILLE               float64\n",
      "IN_RECURSO_AMPLIADA_16           float64\n",
      "IN_RECURSO_AMPLIADA_20           float64\n",
      "IN_RECURSO_AMPLIADA_24           float64\n",
      "IN_RECURSO_NENHUM                float64\n",
      "TP_INGRESSO_FEDERAIS             float64\n",
      "TP_MEDIACAO_DIDATICO_PEDAGO      int64\n",
      "IN_ESPECIAL_EXCLUSIVA            float64\n",
      "IN_REGULAR                       float64\n",
      "IN_EJA                           float64\n",
      "IN_PROFISSIONALIZANTE            float64\n",
      "TP_ETAPA_ENSINO                  float64\n",
      "TP_ETAPA_AGREGADA                float64\n",
      "ID_TURMA                         int64\n",
      "CO_CURSO_EDUC_PROFISSIONAL       float64\n",
      "TP_UNIFICADA                     float64\n",
      "TP_TIPO_TURMA                    int64\n",
      "CO_ENTIDADE                      int64\n",
      "CO_REGIAO                        int64\n",
      "CO_MESORREGIAO                   int64\n",
      "CO_MICRORREGIAO                  int64\n",
      "CO_UF                            int64\n",
      "CO_MUNICIPIO                     int64\n",
      "CO_DISTRITO                      int64\n",
      "TP_DEPENDENCIA                   int64\n",
      "TP_LOCALIZACAO                   int64\n",
      "TP_CATEGORIA_ESCOLA_PRIVADA      float64\n",
      "IN_CONVENIADA_PP                 float64\n",
      "TP_CONVENIO_PODER_PUBLICO        float64\n",
      "IN_MANT_ESCOLA_PRIVADA_EMP       float64\n",
      "IN_MANT_ESCOLA_PRIVADA_ONG       float64\n",
      "IN_MANT_ESCOLA_PRIVADA_SIND      float64\n",
      "IN_MANT_ESCOLA_PRIVADA_SIST_S    float64\n",
      "IN_MANT_ESCOLA_PRIVADA_S_FINS    float64\n",
      "TP_REGULAMENTACAO                int64\n",
      "TP_LOCALIZACAO_DIFERENCIADA      int64\n",
      "IN_EDUCACAO_INDIGENA             int64\n",
      "dtypes: float64(61), int64(32)\n",
      "memory usage: 2.8 GB\n"
     ]
    }
   ],
   "source": [
    "matriculas_2015.info()"
   ]
  },
  {
   "cell_type": "code",
   "execution_count": 5,
   "metadata": {},
   "outputs": [
    {
     "name": "stdout",
     "output_type": "stream",
     "text": [
      "<class 'pandas.core.frame.DataFrame'>\n",
      "RangeIndex: 3924436 entries, 0 to 3924435\n",
      "Data columns (total 92 columns):\n",
      "NU_ANO_CENSO                     int64\n",
      "ID_MATRICULA                     int64\n",
      "CO_PESSOA_FISICA                 int64\n",
      "NU_DIA                           int64\n",
      "NU_MES                           int64\n",
      "NU_ANO                           int64\n",
      "NU_IDADE_REFERENCIA              int64\n",
      "NU_IDADE                         int64\n",
      "NU_DURACAO_TURMA                 float64\n",
      "NU_DUR_ATIV_COMP_MESMA_REDE      float64\n",
      "NU_DUR_ATIV_COMP_OUTRAS_REDES    float64\n",
      "NU_DUR_AEE_MESMA_REDE            float64\n",
      "NU_DUR_AEE_OUTRAS_REDES          float64\n",
      "NU_DIAS_ATIVIDADE                int64\n",
      "TP_SEXO                          int64\n",
      "TP_COR_RACA                      int64\n",
      "TP_NACIONALIDADE                 int64\n",
      "CO_PAIS_ORIGEM                   int64\n",
      "CO_UF_NASC                       float64\n",
      "CO_MUNICIPIO_NASC                float64\n",
      "CO_UF_END                        float64\n",
      "CO_MUNICIPIO_END                 float64\n",
      "TP_ZONA_RESIDENCIAL              int64\n",
      "TP_OUTRO_LOCAL_AULA              int64\n",
      "IN_TRANSPORTE_PUBLICO            int64\n",
      "TP_RESPONSAVEL_TRANSPORTE        float64\n",
      "IN_TRANSP_VANS_KOMBI             float64\n",
      "IN_TRANSP_MICRO_ONIBUS           float64\n",
      "IN_TRANSP_ONIBUS                 float64\n",
      "IN_TRANSP_BICICLETA              float64\n",
      "IN_TRANSP_TR_ANIMAL              float64\n",
      "IN_TRANSP_OUTRO_VEICULO          float64\n",
      "IN_TRANSP_EMBAR_ATE5             float64\n",
      "IN_TRANSP_EMBAR_5A15             float64\n",
      "IN_TRANSP_EMBAR_15A35            float64\n",
      "IN_TRANSP_EMBAR_35               float64\n",
      "IN_TRANSP_TREM_METRO             float64\n",
      "IN_NECESSIDADE_ESPECIAL          int64\n",
      "IN_CEGUEIRA                      float64\n",
      "IN_BAIXA_VISAO                   float64\n",
      "IN_SURDEZ                        float64\n",
      "IN_DEF_AUDITIVA                  float64\n",
      "IN_SURDOCEGUEIRA                 float64\n",
      "IN_DEF_FISICA                    float64\n",
      "IN_DEF_INTELECTUAL               float64\n",
      "IN_DEF_MULTIPLA                  float64\n",
      "IN_AUTISMO                       float64\n",
      "IN_SINDROME_ASPERGER             float64\n",
      "IN_SINDROME_RETT                 float64\n",
      "IN_TRANSTORNO_DI                 float64\n",
      "IN_SUPERDOTACAO                  float64\n",
      "IN_RECURSO_LEDOR                 float64\n",
      "IN_RECURSO_TRANSCRICAO           float64\n",
      "IN_RECURSO_INTERPRETE            float64\n",
      "IN_RECURSO_LIBRAS                float64\n",
      "IN_RECURSO_LABIAL                float64\n",
      "IN_RECURSO_BRAILLE               float64\n",
      "IN_RECURSO_AMPLIADA_16           float64\n",
      "IN_RECURSO_AMPLIADA_20           float64\n",
      "IN_RECURSO_AMPLIADA_24           float64\n",
      "IN_RECURSO_NENHUM                float64\n",
      "TP_INGRESSO_FEDERAIS             float64\n",
      "TP_MEDIACAO_DIDATICO_PEDAGO      int64\n",
      "IN_ESPECIAL_EXCLUSIVA            float64\n",
      "IN_REGULAR                       float64\n",
      "IN_EJA                           float64\n",
      "IN_PROFISSIONALIZANTE            float64\n",
      "TP_ETAPA_ENSINO                  float64\n",
      "ID_TURMA                         int64\n",
      "CO_CURSO_EDUC_PROFISSIONAL       float64\n",
      "TP_UNIFICADA                     float64\n",
      "TP_TIPO_TURMA                    int64\n",
      "CO_ENTIDADE                      int64\n",
      "CO_REGIAO                        int64\n",
      "CO_MESORREGIAO                   int64\n",
      "CO_MICRORREGIAO                  int64\n",
      "CO_UF                            int64\n",
      "CO_MUNICIPIO                     int64\n",
      "CO_DISTRITO                      int64\n",
      "TP_DEPENDENCIA                   int64\n",
      "TP_LOCALIZACAO                   int64\n",
      "TP_CATEGORIA_ESCOLA_PRIVADA      float64\n",
      "IN_CONVENIADA_PP                 float64\n",
      "TP_CONVENIO_PODER_PUBLICO        float64\n",
      "IN_MANT_ESCOLA_PRIVADA_EMP       float64\n",
      "IN_MANT_ESCOLA_PRIVADA_ONG       float64\n",
      "IN_MANT_ESCOLA_PRIVADA_SIND      float64\n",
      "IN_MANT_ESCOLA_PRIVADA_SIST_S    float64\n",
      "IN_MANT_ESCOLA_PRIVADA_S_FINS    float64\n",
      "TP_REGULAMENTACAO                int64\n",
      "TP_LOCALIZACAO_DIFERENCIADA      int64\n",
      "IN_EDUCACAO_INDIGENA             int64\n",
      "dtypes: float64(60), int64(32)\n",
      "memory usage: 2.7 GB\n"
     ]
    }
   ],
   "source": [
    "matriculas_2016.info()"
   ]
  },
  {
   "cell_type": "code",
   "execution_count": null,
   "metadata": {},
   "outputs": [],
   "source": [
    "matriculas_2017.info()"
   ]
  },
  {
   "cell_type": "markdown",
   "metadata": {},
   "source": [
    "Como os datasets tem quantidades distintas de colunas, 93 no de 2015 e 92 no de 2016, vamos selecionar apenas as colunas presentes nos dois simultaneamente. Primeiro, vamos listar as colunas de cada dataset."
   ]
  },
  {
   "cell_type": "code",
   "execution_count": null,
   "metadata": {},
   "outputs": [],
   "source": [
    "nomes_colunas_2015 = matriculas_2015.columns.tolist()\n",
    "nomes_colunas_2016 = matriculas_2016.columns.tolist()\n",
    "nomes_colunas_2017 = matriculas_2017.columns.tolist()"
   ]
  },
  {
   "cell_type": "markdown",
   "metadata": {},
   "source": [
    "Agora vamos Listar a interseção das colunas"
   ]
  },
  {
   "cell_type": "code",
   "execution_count": 7,
   "metadata": {},
   "outputs": [
    {
     "data": {
      "text/plain": [
       "['IN_SURDOCEGUEIRA',\n",
       " 'IN_TRANSP_TREM_METRO',\n",
       " 'IN_DEF_AUDITIVA',\n",
       " 'IN_RECURSO_AMPLIADA_20',\n",
       " 'NU_ANO',\n",
       " 'CO_MUNICIPIO',\n",
       " 'IN_CONVENIADA_PP',\n",
       " 'IN_BAIXA_VISAO',\n",
       " 'TP_UNIFICADA',\n",
       " 'IN_RECURSO_NENHUM',\n",
       " 'ID_MATRICULA',\n",
       " 'IN_RECURSO_LIBRAS',\n",
       " 'TP_CONVENIO_PODER_PUBLICO',\n",
       " 'TP_MEDIACAO_DIDATICO_PEDAGO',\n",
       " 'CO_MICRORREGIAO',\n",
       " 'IN_MANT_ESCOLA_PRIVADA_EMP',\n",
       " 'CO_ENTIDADE',\n",
       " 'TP_LOCALIZACAO',\n",
       " 'IN_AUTISMO',\n",
       " 'NU_ANO_CENSO',\n",
       " 'ID_TURMA',\n",
       " 'IN_TRANSP_EMBAR_ATE5',\n",
       " 'NU_DUR_ATIV_COMP_OUTRAS_REDES',\n",
       " 'IN_MANT_ESCOLA_PRIVADA_SIND',\n",
       " 'IN_EDUCACAO_INDIGENA',\n",
       " 'IN_MANT_ESCOLA_PRIVADA_S_FINS',\n",
       " 'IN_CEGUEIRA',\n",
       " 'IN_SINDROME_ASPERGER',\n",
       " 'NU_DIAS_ATIVIDADE',\n",
       " 'NU_IDADE_REFERENCIA',\n",
       " 'IN_TRANSP_EMBAR_15A35',\n",
       " 'TP_ETAPA_ENSINO',\n",
       " 'CO_MESORREGIAO',\n",
       " 'IN_RECURSO_INTERPRETE',\n",
       " 'NU_DUR_AEE_OUTRAS_REDES',\n",
       " 'IN_RECURSO_LABIAL',\n",
       " 'CO_UF_END',\n",
       " 'TP_DEPENDENCIA',\n",
       " 'IN_TRANSTORNO_DI',\n",
       " 'NU_IDADE',\n",
       " 'IN_TRANSP_MICRO_ONIBUS',\n",
       " 'IN_RECURSO_AMPLIADA_16',\n",
       " 'IN_TRANSP_TR_ANIMAL',\n",
       " 'CO_MUNICIPIO_END',\n",
       " 'IN_DEF_INTELECTUAL',\n",
       " 'NU_DIA',\n",
       " 'CO_MUNICIPIO_NASC',\n",
       " 'TP_REGULAMENTACAO',\n",
       " 'CO_DISTRITO',\n",
       " 'IN_NECESSIDADE_ESPECIAL',\n",
       " 'IN_TRANSP_EMBAR_35',\n",
       " 'IN_RECURSO_AMPLIADA_24',\n",
       " 'IN_TRANSP_OUTRO_VEICULO',\n",
       " 'IN_TRANSPORTE_PUBLICO',\n",
       " 'NU_DUR_ATIV_COMP_MESMA_REDE',\n",
       " 'IN_SINDROME_RETT',\n",
       " 'NU_DURACAO_TURMA',\n",
       " 'IN_RECURSO_TRANSCRICAO',\n",
       " 'IN_MANT_ESCOLA_PRIVADA_ONG',\n",
       " 'TP_CATEGORIA_ESCOLA_PRIVADA',\n",
       " 'IN_TRANSP_ONIBUS',\n",
       " 'IN_EJA',\n",
       " 'IN_RECURSO_LEDOR',\n",
       " 'CO_PESSOA_FISICA',\n",
       " 'CO_CURSO_EDUC_PROFISSIONAL',\n",
       " 'TP_NACIONALIDADE',\n",
       " 'CO_UF',\n",
       " 'CO_REGIAO',\n",
       " 'TP_LOCALIZACAO_DIFERENCIADA',\n",
       " 'IN_MANT_ESCOLA_PRIVADA_SIST_S',\n",
       " 'IN_RECURSO_BRAILLE',\n",
       " 'IN_DEF_FISICA',\n",
       " 'TP_COR_RACA',\n",
       " 'TP_RESPONSAVEL_TRANSPORTE',\n",
       " 'IN_DEF_MULTIPLA',\n",
       " 'IN_SURDEZ',\n",
       " 'IN_TRANSP_EMBAR_5A15',\n",
       " 'CO_PAIS_ORIGEM',\n",
       " 'IN_REGULAR',\n",
       " 'TP_OUTRO_LOCAL_AULA',\n",
       " 'NU_MES',\n",
       " 'IN_PROFISSIONALIZANTE',\n",
       " 'IN_SUPERDOTACAO',\n",
       " 'TP_SEXO',\n",
       " 'IN_TRANSP_VANS_KOMBI',\n",
       " 'TP_TIPO_TURMA',\n",
       " 'NU_DUR_AEE_MESMA_REDE',\n",
       " 'TP_INGRESSO_FEDERAIS',\n",
       " 'IN_TRANSP_BICICLETA',\n",
       " 'TP_ZONA_RESIDENCIAL',\n",
       " 'IN_ESPECIAL_EXCLUSIVA',\n",
       " 'CO_UF_NASC']"
      ]
     },
     "execution_count": 7,
     "metadata": {},
     "output_type": "execute_result"
    }
   ],
   "source": [
    "nomes_colunas_2015_2016 = list(set(nomes_colunas_2015).intersection(nomes_colunas_2016))\n",
    "nomes_colunas_2015_2016"
   ]
  },
  {
   "cell_type": "markdown",
   "metadata": {},
   "source": [
    "E podemos listar as colunas (no caso a coluna) que foi retirada do dataset"
   ]
  },
  {
   "cell_type": "code",
   "execution_count": 8,
   "metadata": {},
   "outputs": [
    {
     "data": {
      "text/plain": [
       "['TP_ETAPA_AGREGADA']"
      ]
     },
     "execution_count": 8,
     "metadata": {},
     "output_type": "execute_result"
    }
   ],
   "source": [
    "nomes_colunas_retiradas_2016 = list(set(nomes_colunas_2015).difference(nomes_colunas_2016))\n",
    "nomes_colunas_retiradas_2016"
   ]
  },
  {
   "cell_type": "markdown",
   "metadata": {},
   "source": [
    "Agora vamos localizar os índices das colunas pelo seu nome e armazenar numa lista"
   ]
  },
  {
   "cell_type": "code",
   "execution_count": 9,
   "metadata": {},
   "outputs": [],
   "source": [
    "indices_colunas_2015 = []\n",
    "for nome in nomes_colunas_2015_2016:\n",
    "    indice_coluna = matriculas_2015.columns.get_loc(nome)\n",
    "    indices_colunas_2015.append(indice_coluna)\n",
    "indices_colunas_2015.sort()"
   ]
  },
  {
   "cell_type": "markdown",
   "metadata": {},
   "source": [
    "Vamos verificar se agora temos a mesma quantidade de colunas"
   ]
  },
  {
   "cell_type": "code",
   "execution_count": 10,
   "metadata": {},
   "outputs": [
    {
     "data": {
      "text/plain": [
       "True"
      ]
     },
     "execution_count": 10,
     "metadata": {},
     "output_type": "execute_result"
    }
   ],
   "source": [
    "len(indices_colunas_2015) == len(matriculas_2016.columns.tolist())"
   ]
  },
  {
   "cell_type": "markdown",
   "metadata": {},
   "source": [
    "Vamos listar as colunas com seus respectivos índices para poder selecionar quais permanecerão no dataset de treino"
   ]
  },
  {
   "cell_type": "code",
   "execution_count": 11,
   "metadata": {},
   "outputs": [
    {
     "name": "stdout",
     "output_type": "stream",
     "text": [
      "0 - NU_ANO_CENSO\n",
      "1 - ID_MATRICULA\n",
      "2 - CO_PESSOA_FISICA\n",
      "3 - NU_DIA\n",
      "4 - NU_MES\n",
      "5 - NU_ANO\n",
      "6 - NU_IDADE_REFERENCIA\n",
      "7 - NU_IDADE\n",
      "8 - NU_DURACAO_TURMA\n",
      "9 - NU_DUR_ATIV_COMP_MESMA_REDE\n",
      "10 - NU_DUR_ATIV_COMP_OUTRAS_REDES\n",
      "11 - NU_DUR_AEE_MESMA_REDE\n",
      "12 - NU_DUR_AEE_OUTRAS_REDES\n",
      "13 - NU_DIAS_ATIVIDADE\n",
      "14 - TP_SEXO\n",
      "15 - TP_COR_RACA\n",
      "16 - TP_NACIONALIDADE\n",
      "17 - CO_PAIS_ORIGEM\n",
      "18 - CO_UF_NASC\n",
      "19 - CO_MUNICIPIO_NASC\n",
      "20 - CO_UF_END\n",
      "21 - CO_MUNICIPIO_END\n",
      "22 - TP_ZONA_RESIDENCIAL\n",
      "23 - TP_OUTRO_LOCAL_AULA\n",
      "24 - IN_TRANSPORTE_PUBLICO\n",
      "25 - TP_RESPONSAVEL_TRANSPORTE\n",
      "26 - IN_TRANSP_VANS_KOMBI\n",
      "27 - IN_TRANSP_MICRO_ONIBUS\n",
      "28 - IN_TRANSP_ONIBUS\n",
      "29 - IN_TRANSP_BICICLETA\n",
      "30 - IN_TRANSP_TR_ANIMAL\n",
      "31 - IN_TRANSP_OUTRO_VEICULO\n",
      "32 - IN_TRANSP_EMBAR_ATE5\n",
      "33 - IN_TRANSP_EMBAR_5A15\n",
      "34 - IN_TRANSP_EMBAR_15A35\n",
      "35 - IN_TRANSP_EMBAR_35\n",
      "36 - IN_TRANSP_TREM_METRO\n",
      "37 - IN_NECESSIDADE_ESPECIAL\n",
      "38 - IN_CEGUEIRA\n",
      "39 - IN_BAIXA_VISAO\n",
      "40 - IN_SURDEZ\n",
      "41 - IN_DEF_AUDITIVA\n",
      "42 - IN_SURDOCEGUEIRA\n",
      "43 - IN_DEF_FISICA\n",
      "44 - IN_DEF_INTELECTUAL\n",
      "45 - IN_DEF_MULTIPLA\n",
      "46 - IN_AUTISMO\n",
      "47 - IN_SINDROME_ASPERGER\n",
      "48 - IN_SINDROME_RETT\n",
      "49 - IN_TRANSTORNO_DI\n",
      "50 - IN_SUPERDOTACAO\n",
      "51 - IN_RECURSO_LEDOR\n",
      "52 - IN_RECURSO_TRANSCRICAO\n",
      "53 - IN_RECURSO_INTERPRETE\n",
      "54 - IN_RECURSO_LIBRAS\n",
      "55 - IN_RECURSO_LABIAL\n",
      "56 - IN_RECURSO_BRAILLE\n",
      "57 - IN_RECURSO_AMPLIADA_16\n",
      "58 - IN_RECURSO_AMPLIADA_20\n",
      "59 - IN_RECURSO_AMPLIADA_24\n",
      "60 - IN_RECURSO_NENHUM\n",
      "61 - TP_INGRESSO_FEDERAIS\n",
      "62 - TP_MEDIACAO_DIDATICO_PEDAGO\n",
      "63 - IN_ESPECIAL_EXCLUSIVA\n",
      "64 - IN_REGULAR\n",
      "65 - IN_EJA\n",
      "66 - IN_PROFISSIONALIZANTE\n",
      "67 - TP_ETAPA_ENSINO\n",
      "69 - ID_TURMA\n",
      "70 - CO_CURSO_EDUC_PROFISSIONAL\n",
      "71 - TP_UNIFICADA\n",
      "72 - TP_TIPO_TURMA\n",
      "73 - CO_ENTIDADE\n",
      "74 - CO_REGIAO\n",
      "75 - CO_MESORREGIAO\n",
      "76 - CO_MICRORREGIAO\n",
      "77 - CO_UF\n",
      "78 - CO_MUNICIPIO\n",
      "79 - CO_DISTRITO\n",
      "80 - TP_DEPENDENCIA\n",
      "81 - TP_LOCALIZACAO\n",
      "82 - TP_CATEGORIA_ESCOLA_PRIVADA\n",
      "83 - IN_CONVENIADA_PP\n",
      "84 - TP_CONVENIO_PODER_PUBLICO\n",
      "85 - IN_MANT_ESCOLA_PRIVADA_EMP\n",
      "86 - IN_MANT_ESCOLA_PRIVADA_ONG\n",
      "87 - IN_MANT_ESCOLA_PRIVADA_SIND\n",
      "88 - IN_MANT_ESCOLA_PRIVADA_SIST_S\n",
      "89 - IN_MANT_ESCOLA_PRIVADA_S_FINS\n",
      "90 - TP_REGULAMENTACAO\n",
      "91 - TP_LOCALIZACAO_DIFERENCIADA\n",
      "92 - IN_EDUCACAO_INDIGENA\n"
     ]
    }
   ],
   "source": [
    "for indice in indices_colunas_2015:\n",
    "    nome_coluna = matriculas_2015.columns.tolist()[indice]\n",
    "    print(f'{indice} - {nome_coluna}')"
   ]
  },
  {
   "cell_type": "markdown",
   "metadata": {},
   "source": [
    "Criando a lista com as colunas selecionadas"
   ]
  },
  {
   "cell_type": "code",
   "execution_count": 12,
   "metadata": {},
   "outputs": [],
   "source": [
    "indices_colunas_2015_selecionadas = [6, 7, 14, 15, 22, 23, 24, 25, 26, 27, 28, 29, 30, 31, 32, 33, 34, 35, 36, 37, 38, 39, 40, 41, 42, 43, 44, 45, 46, 47, 48, 49, 50, 51, 52, 53, 54, 55, 56, 57, 58, 59, 60]"
   ]
  },
  {
   "cell_type": "markdown",
   "metadata": {},
   "source": [
    "Criando um novo dataframe apenas com as colunas selecionadas"
   ]
  },
  {
   "cell_type": "code",
   "execution_count": 13,
   "metadata": {},
   "outputs": [],
   "source": [
    "matriculas_2015_selecionado = matriculas_2015.iloc[:, indices_colunas_2015_selecionadas]"
   ]
  },
  {
   "cell_type": "code",
   "execution_count": 14,
   "metadata": {},
   "outputs": [
    {
     "name": "stdout",
     "output_type": "stream",
     "text": [
      "<class 'pandas.core.frame.DataFrame'>\n",
      "RangeIndex: 4064193 entries, 0 to 4064192\n",
      "Data columns (total 43 columns):\n",
      "NU_IDADE_REFERENCIA          int64\n",
      "NU_IDADE                     int64\n",
      "TP_SEXO                      int64\n",
      "TP_COR_RACA                  int64\n",
      "TP_ZONA_RESIDENCIAL          int64\n",
      "TP_OUTRO_LOCAL_AULA          int64\n",
      "IN_TRANSPORTE_PUBLICO        int64\n",
      "TP_RESPONSAVEL_TRANSPORTE    float64\n",
      "IN_TRANSP_VANS_KOMBI         float64\n",
      "IN_TRANSP_MICRO_ONIBUS       float64\n",
      "IN_TRANSP_ONIBUS             float64\n",
      "IN_TRANSP_BICICLETA          float64\n",
      "IN_TRANSP_TR_ANIMAL          float64\n",
      "IN_TRANSP_OUTRO_VEICULO      float64\n",
      "IN_TRANSP_EMBAR_ATE5         float64\n",
      "IN_TRANSP_EMBAR_5A15         float64\n",
      "IN_TRANSP_EMBAR_15A35        float64\n",
      "IN_TRANSP_EMBAR_35           float64\n",
      "IN_TRANSP_TREM_METRO         float64\n",
      "IN_NECESSIDADE_ESPECIAL      int64\n",
      "IN_CEGUEIRA                  float64\n",
      "IN_BAIXA_VISAO               float64\n",
      "IN_SURDEZ                    float64\n",
      "IN_DEF_AUDITIVA              float64\n",
      "IN_SURDOCEGUEIRA             float64\n",
      "IN_DEF_FISICA                float64\n",
      "IN_DEF_INTELECTUAL           float64\n",
      "IN_DEF_MULTIPLA              float64\n",
      "IN_AUTISMO                   float64\n",
      "IN_SINDROME_ASPERGER         float64\n",
      "IN_SINDROME_RETT             float64\n",
      "IN_TRANSTORNO_DI             float64\n",
      "IN_SUPERDOTACAO              float64\n",
      "IN_RECURSO_LEDOR             float64\n",
      "IN_RECURSO_TRANSCRICAO       float64\n",
      "IN_RECURSO_INTERPRETE        float64\n",
      "IN_RECURSO_LIBRAS            float64\n",
      "IN_RECURSO_LABIAL            float64\n",
      "IN_RECURSO_BRAILLE           float64\n",
      "IN_RECURSO_AMPLIADA_16       float64\n",
      "IN_RECURSO_AMPLIADA_20       float64\n",
      "IN_RECURSO_AMPLIADA_24       float64\n",
      "IN_RECURSO_NENHUM            float64\n",
      "dtypes: float64(35), int64(8)\n",
      "memory usage: 1.3 GB\n"
     ]
    }
   ],
   "source": [
    "matriculas_2015_selecionado.info()"
   ]
  },
  {
   "cell_type": "markdown",
   "metadata": {},
   "source": [
    "O novo dataframe tem apenas 43 das 92 colunas originais. Agora vamos preencher os valores nulos com o valor 0"
   ]
  },
  {
   "cell_type": "code",
   "execution_count": 15,
   "metadata": {},
   "outputs": [],
   "source": [
    "matriculas_2015_selecionado = matriculas_2015_selecionado.fillna(0)"
   ]
  },
  {
   "cell_type": "code",
   "execution_count": 16,
   "metadata": {},
   "outputs": [
    {
     "data": {
      "text/html": [
       "<div>\n",
       "<style scoped>\n",
       "    .dataframe tbody tr th:only-of-type {\n",
       "        vertical-align: middle;\n",
       "    }\n",
       "\n",
       "    .dataframe tbody tr th {\n",
       "        vertical-align: top;\n",
       "    }\n",
       "\n",
       "    .dataframe thead th {\n",
       "        text-align: right;\n",
       "    }\n",
       "</style>\n",
       "<table border=\"1\" class=\"dataframe\">\n",
       "  <thead>\n",
       "    <tr style=\"text-align: right;\">\n",
       "      <th></th>\n",
       "      <th>NU_IDADE_REFERENCIA</th>\n",
       "      <th>NU_IDADE</th>\n",
       "      <th>TP_SEXO</th>\n",
       "      <th>TP_COR_RACA</th>\n",
       "      <th>TP_ZONA_RESIDENCIAL</th>\n",
       "      <th>TP_OUTRO_LOCAL_AULA</th>\n",
       "      <th>IN_TRANSPORTE_PUBLICO</th>\n",
       "      <th>TP_RESPONSAVEL_TRANSPORTE</th>\n",
       "      <th>IN_TRANSP_VANS_KOMBI</th>\n",
       "      <th>IN_TRANSP_MICRO_ONIBUS</th>\n",
       "      <th>...</th>\n",
       "      <th>IN_RECURSO_LEDOR</th>\n",
       "      <th>IN_RECURSO_TRANSCRICAO</th>\n",
       "      <th>IN_RECURSO_INTERPRETE</th>\n",
       "      <th>IN_RECURSO_LIBRAS</th>\n",
       "      <th>IN_RECURSO_LABIAL</th>\n",
       "      <th>IN_RECURSO_BRAILLE</th>\n",
       "      <th>IN_RECURSO_AMPLIADA_16</th>\n",
       "      <th>IN_RECURSO_AMPLIADA_20</th>\n",
       "      <th>IN_RECURSO_AMPLIADA_24</th>\n",
       "      <th>IN_RECURSO_NENHUM</th>\n",
       "    </tr>\n",
       "  </thead>\n",
       "  <tbody>\n",
       "    <tr>\n",
       "      <td>0</td>\n",
       "      <td>14</td>\n",
       "      <td>15</td>\n",
       "      <td>1</td>\n",
       "      <td>0</td>\n",
       "      <td>1</td>\n",
       "      <td>3</td>\n",
       "      <td>0</td>\n",
       "      <td>0.0</td>\n",
       "      <td>0.0</td>\n",
       "      <td>0.0</td>\n",
       "      <td>...</td>\n",
       "      <td>0.0</td>\n",
       "      <td>0.0</td>\n",
       "      <td>0.0</td>\n",
       "      <td>0.0</td>\n",
       "      <td>0.0</td>\n",
       "      <td>0.0</td>\n",
       "      <td>0.0</td>\n",
       "      <td>0.0</td>\n",
       "      <td>0.0</td>\n",
       "      <td>0.0</td>\n",
       "    </tr>\n",
       "    <tr>\n",
       "      <td>1</td>\n",
       "      <td>3</td>\n",
       "      <td>3</td>\n",
       "      <td>2</td>\n",
       "      <td>1</td>\n",
       "      <td>1</td>\n",
       "      <td>3</td>\n",
       "      <td>0</td>\n",
       "      <td>0.0</td>\n",
       "      <td>0.0</td>\n",
       "      <td>0.0</td>\n",
       "      <td>...</td>\n",
       "      <td>0.0</td>\n",
       "      <td>0.0</td>\n",
       "      <td>0.0</td>\n",
       "      <td>0.0</td>\n",
       "      <td>0.0</td>\n",
       "      <td>0.0</td>\n",
       "      <td>0.0</td>\n",
       "      <td>0.0</td>\n",
       "      <td>0.0</td>\n",
       "      <td>0.0</td>\n",
       "    </tr>\n",
       "    <tr>\n",
       "      <td>2</td>\n",
       "      <td>14</td>\n",
       "      <td>15</td>\n",
       "      <td>2</td>\n",
       "      <td>3</td>\n",
       "      <td>1</td>\n",
       "      <td>3</td>\n",
       "      <td>0</td>\n",
       "      <td>0.0</td>\n",
       "      <td>0.0</td>\n",
       "      <td>0.0</td>\n",
       "      <td>...</td>\n",
       "      <td>0.0</td>\n",
       "      <td>0.0</td>\n",
       "      <td>0.0</td>\n",
       "      <td>0.0</td>\n",
       "      <td>0.0</td>\n",
       "      <td>0.0</td>\n",
       "      <td>0.0</td>\n",
       "      <td>0.0</td>\n",
       "      <td>0.0</td>\n",
       "      <td>0.0</td>\n",
       "    </tr>\n",
       "    <tr>\n",
       "      <td>3</td>\n",
       "      <td>3</td>\n",
       "      <td>4</td>\n",
       "      <td>1</td>\n",
       "      <td>1</td>\n",
       "      <td>1</td>\n",
       "      <td>3</td>\n",
       "      <td>0</td>\n",
       "      <td>0.0</td>\n",
       "      <td>0.0</td>\n",
       "      <td>0.0</td>\n",
       "      <td>...</td>\n",
       "      <td>0.0</td>\n",
       "      <td>0.0</td>\n",
       "      <td>0.0</td>\n",
       "      <td>0.0</td>\n",
       "      <td>0.0</td>\n",
       "      <td>0.0</td>\n",
       "      <td>0.0</td>\n",
       "      <td>0.0</td>\n",
       "      <td>0.0</td>\n",
       "      <td>0.0</td>\n",
       "    </tr>\n",
       "    <tr>\n",
       "      <td>4</td>\n",
       "      <td>3</td>\n",
       "      <td>4</td>\n",
       "      <td>2</td>\n",
       "      <td>1</td>\n",
       "      <td>1</td>\n",
       "      <td>3</td>\n",
       "      <td>0</td>\n",
       "      <td>0.0</td>\n",
       "      <td>0.0</td>\n",
       "      <td>0.0</td>\n",
       "      <td>...</td>\n",
       "      <td>0.0</td>\n",
       "      <td>0.0</td>\n",
       "      <td>0.0</td>\n",
       "      <td>0.0</td>\n",
       "      <td>0.0</td>\n",
       "      <td>0.0</td>\n",
       "      <td>0.0</td>\n",
       "      <td>0.0</td>\n",
       "      <td>0.0</td>\n",
       "      <td>0.0</td>\n",
       "    </tr>\n",
       "  </tbody>\n",
       "</table>\n",
       "<p>5 rows × 43 columns</p>\n",
       "</div>"
      ],
      "text/plain": [
       "   NU_IDADE_REFERENCIA  NU_IDADE  TP_SEXO  TP_COR_RACA  TP_ZONA_RESIDENCIAL  \\\n",
       "0                   14        15        1            0                    1   \n",
       "1                    3         3        2            1                    1   \n",
       "2                   14        15        2            3                    1   \n",
       "3                    3         4        1            1                    1   \n",
       "4                    3         4        2            1                    1   \n",
       "\n",
       "   TP_OUTRO_LOCAL_AULA  IN_TRANSPORTE_PUBLICO  TP_RESPONSAVEL_TRANSPORTE  \\\n",
       "0                    3                      0                        0.0   \n",
       "1                    3                      0                        0.0   \n",
       "2                    3                      0                        0.0   \n",
       "3                    3                      0                        0.0   \n",
       "4                    3                      0                        0.0   \n",
       "\n",
       "   IN_TRANSP_VANS_KOMBI  IN_TRANSP_MICRO_ONIBUS  ...  IN_RECURSO_LEDOR  \\\n",
       "0                   0.0                     0.0  ...               0.0   \n",
       "1                   0.0                     0.0  ...               0.0   \n",
       "2                   0.0                     0.0  ...               0.0   \n",
       "3                   0.0                     0.0  ...               0.0   \n",
       "4                   0.0                     0.0  ...               0.0   \n",
       "\n",
       "   IN_RECURSO_TRANSCRICAO  IN_RECURSO_INTERPRETE  IN_RECURSO_LIBRAS  \\\n",
       "0                     0.0                    0.0                0.0   \n",
       "1                     0.0                    0.0                0.0   \n",
       "2                     0.0                    0.0                0.0   \n",
       "3                     0.0                    0.0                0.0   \n",
       "4                     0.0                    0.0                0.0   \n",
       "\n",
       "   IN_RECURSO_LABIAL  IN_RECURSO_BRAILLE  IN_RECURSO_AMPLIADA_16  \\\n",
       "0                0.0                 0.0                     0.0   \n",
       "1                0.0                 0.0                     0.0   \n",
       "2                0.0                 0.0                     0.0   \n",
       "3                0.0                 0.0                     0.0   \n",
       "4                0.0                 0.0                     0.0   \n",
       "\n",
       "   IN_RECURSO_AMPLIADA_20  IN_RECURSO_AMPLIADA_24  IN_RECURSO_NENHUM  \n",
       "0                     0.0                     0.0                0.0  \n",
       "1                     0.0                     0.0                0.0  \n",
       "2                     0.0                     0.0                0.0  \n",
       "3                     0.0                     0.0                0.0  \n",
       "4                     0.0                     0.0                0.0  \n",
       "\n",
       "[5 rows x 43 columns]"
      ]
     },
     "execution_count": 16,
     "metadata": {},
     "output_type": "execute_result"
    }
   ],
   "source": [
    "matriculas_2015_selecionado.head()"
   ]
  },
  {
   "cell_type": "markdown",
   "metadata": {},
   "source": [
    "## Segundo passo: criar uma nova coluna com o resultado obtido pelos estudantes no ano de 2015 com base nos dados do dataset de 2016"
   ]
  },
  {
   "cell_type": "markdown",
   "metadata": {},
   "source": [
    "Para obter o resultado obtido pelos estudantes, vamos procurar no dataset de 2016 os estudantes que permaneceram na mesma etapa de ensino que estavam em 2015. De acordo com os dicionários de dados dos censos escolares, as etapas do ensino fundamental são as listadas abaixo:"
   ]
  },
  {
   "cell_type": "markdown",
   "metadata": {},
   "source": [
    "#### Etapas do Ensino Fundamental (TP_ETAPA_ENSINO)\n",
    "\n",
    "##### Anos iniciais\n",
    "* 4 - Ensino Fundamental de 8 anos - 1ª Série\n",
    "* 5 - Ensino Fundamental de 8 anos - 2ª Série\n",
    "* 6 - Ensino Fundamental de 8 anos - 3ª Série\n",
    "* 7 - Ensino Fundamental de 8 anos - 4ª Série\n",
    "* 14 - Ensino Fundamental de 9 anos - 1º Ano\n",
    "* 15 - Ensino Fundamental de 9 anos - 2º Ano\n",
    "* 16 - Ensino Fundamental de 9 anos - 3º Ano\n",
    "* 17 - Ensino Fundamental de 9 anos - 4º Ano\n",
    "* 18 - Ensino Fundamental de 9 anos - 5º Ano\n",
    "\n",
    "##### Anos finais\n",
    "* 8 - Ensino Fundamental de 8 anos - 5ª Série\n",
    "* 9 - Ensino Fundamental de 8 anos - 6ª Série\n",
    "* 10 - Ensino Fundamental de 8 anos - 7ª Série\n",
    "* 11 - Ensino Fundamental de 8 anos - 8ª Série\n",
    "* 19 - Ensino Fundamental de 9 anos - 6º Ano\n",
    "* 20 - Ensino Fundamental de 9 anos - 7º Ano\n",
    "* 21 - Ensino Fundamental de 9 anos - 8º Ano\n",
    "* 41 - Ensino Fundamental de 9 anos - 9º Ano"
   ]
  },
  {
   "cell_type": "markdown",
   "metadata": {},
   "source": [
    "Vamos criar as listas com os códigos das etapas do ensino fundamental, tanto anos iniciais quanto anos finais, para utilizar como filtro dos datasets"
   ]
  },
  {
   "cell_type": "code",
   "execution_count": 17,
   "metadata": {},
   "outputs": [],
   "source": [
    "etapas_fundamental_anos_iniciais = [4, 5, 6, 7, 14, 15, 16, 17, 18]\n",
    "etapas_fundamental_anos_finais = [8, 9, 10, 11, 19, 20, 21, 41]\n",
    "etapas_fundamental = etapas_fundamental_anos_iniciais + etapas_fundamental_anos_finais"
   ]
  },
  {
   "cell_type": "markdown",
   "metadata": {},
   "source": [
    "Outros filtros realizados:\n",
    "* IN_REGULAR: 1 (Ensino regular)\n",
    "* CO_UF: 53 (Distrito Federal)\n",
    "* TP_MEDIACAO_DIDATICO_PEDAGO: 1 (Presencial)\n",
    "* IN_ESPECIAL_EXCLUSIVA: 0 (Não é turma exclusiva de alunos com deficiência)"
   ]
  },
  {
   "cell_type": "markdown",
   "metadata": {},
   "source": [
    "Filtrando o dataset de 2015"
   ]
  },
  {
   "cell_type": "code",
   "execution_count": 18,
   "metadata": {},
   "outputs": [],
   "source": [
    "matriculas_2015_fundamental_df = matriculas_2015.loc[\n",
    "    (matriculas_2015['IN_REGULAR'] == 1) & \n",
    "    (matriculas_2015['TP_ETAPA_ENSINO'].isin(etapas_fundamental)) & \n",
    "    (matriculas_2015['CO_UF'] == 53) &\n",
    "    (matriculas_2015['TP_MEDIACAO_DIDATICO_PEDAGO'] == 1) &\n",
    "    (matriculas_2015['IN_ESPECIAL_EXCLUSIVA'] == 0),\n",
    "    ['CO_PESSOA_FISICA', 'TP_ETAPA_ENSINO']]"
   ]
  },
  {
   "cell_type": "markdown",
   "metadata": {},
   "source": [
    "Filtrando o dataset de 2016"
   ]
  },
  {
   "cell_type": "code",
   "execution_count": 19,
   "metadata": {},
   "outputs": [],
   "source": [
    "matriculas_2016_fundamental_df = matriculas_2016.loc[\n",
    "    (matriculas_2016['IN_REGULAR'] == 1) & \n",
    "    (matriculas_2016['TP_ETAPA_ENSINO'].isin(etapas_fundamental)) & \n",
    "    (matriculas_2016['CO_UF'] == 53) &\n",
    "    (matriculas_2016['TP_MEDIACAO_DIDATICO_PEDAGO'] == 1) &\n",
    "    (matriculas_2016['IN_ESPECIAL_EXCLUSIVA'] == 0),\n",
    "    ['CO_PESSOA_FISICA', 'TP_ETAPA_ENSINO']]"
   ]
  },
  {
   "cell_type": "markdown",
   "metadata": {},
   "source": [
    "Agora vamos fazer o inner join dos dataframes utilizando a coluna CO_PESSOA_FISICA como chave"
   ]
  },
  {
   "cell_type": "code",
   "execution_count": 20,
   "metadata": {},
   "outputs": [],
   "source": [
    "matriculas_2015_2016_fundamental_df = matriculas_2015_fundamental_df.merge(matriculas_2016_fundamental_df, how='inner', left_on='CO_PESSOA_FISICA', right_on='CO_PESSOA_FISICA')"
   ]
  },
  {
   "cell_type": "markdown",
   "metadata": {},
   "source": [
    "Obtendo o índice das linhas do dataframe que contém os dados dos estudantes reprovados"
   ]
  },
  {
   "cell_type": "code",
   "execution_count": 21,
   "metadata": {},
   "outputs": [],
   "source": [
    "indices_reprovados_2015 = matriculas_2015_2016_fundamental_df.loc[matriculas_2015_2016_fundamental_df['TP_ETAPA_ENSINO_x'] == matriculas_2015_2016_fundamental_df['TP_ETAPA_ENSINO_y'], 'CO_PESSOA_FISICA'].index.tolist()"
   ]
  },
  {
   "cell_type": "markdown",
   "metadata": {},
   "source": [
    "Obtendo o índice das linhas do dataframe que contém os dados dos estudantes aprovados"
   ]
  },
  {
   "cell_type": "code",
   "execution_count": 22,
   "metadata": {},
   "outputs": [],
   "source": [
    "indices_aprovados_2015 = matriculas_2015_2016_fundamental_df.loc[matriculas_2015_2016_fundamental_df['TP_ETAPA_ENSINO_x'] != matriculas_2015_2016_fundamental_df['TP_ETAPA_ENSINO_y'], 'CO_PESSOA_FISICA'].index.tolist()"
   ]
  },
  {
   "cell_type": "markdown",
   "metadata": {},
   "source": [
    "Criando a coluna do resultado com os valores provisórios"
   ]
  },
  {
   "cell_type": "code",
   "execution_count": 23,
   "metadata": {},
   "outputs": [],
   "source": [
    "matriculas_2015_selecionado['RESULTADO'] = 'Sem resultado'"
   ]
  },
  {
   "cell_type": "markdown",
   "metadata": {},
   "source": [
    "Mudando o valor provisório da coluna RESULTADO dos estudantes reprovados"
   ]
  },
  {
   "cell_type": "code",
   "execution_count": 24,
   "metadata": {},
   "outputs": [],
   "source": [
    "matriculas_2015_selecionado.loc[indices_reprovados_2015, 'RESULTADO'] = 'Reprovado'"
   ]
  },
  {
   "cell_type": "markdown",
   "metadata": {},
   "source": [
    "Mudando o valor provisório da coluna RESULTADO dos estudantes aprovados"
   ]
  },
  {
   "cell_type": "code",
   "execution_count": 25,
   "metadata": {},
   "outputs": [],
   "source": [
    "matriculas_2015_selecionado.loc[indices_aprovados_2015, 'RESULTADO'] = 'Aprovado'"
   ]
  },
  {
   "cell_type": "markdown",
   "metadata": {},
   "source": [
    "Verificando as quantidades de cada valor da coluna RESULTADO"
   ]
  },
  {
   "cell_type": "code",
   "execution_count": 26,
   "metadata": {},
   "outputs": [
    {
     "data": {
      "text/plain": [
       "Sem resultado    3749161\n",
       "Aprovado          284251\n",
       "Reprovado          30781\n",
       "Name: RESULTADO, dtype: int64"
      ]
     },
     "execution_count": 26,
     "metadata": {},
     "output_type": "execute_result"
    }
   ],
   "source": [
    "matriculas_2015_selecionado['RESULTADO'].value_counts()"
   ]
  },
  {
   "cell_type": "markdown",
   "metadata": {},
   "source": [
    "Obtendo o índice das linhas dos estudantes de outras UFs"
   ]
  },
  {
   "cell_type": "code",
   "execution_count": 27,
   "metadata": {},
   "outputs": [],
   "source": [
    "indice_matriculas_outras_ufs = matriculas_2015_selecionado[matriculas_2015_selecionado['RESULTADO'] == 'Sem resultado'].index.tolist()"
   ]
  },
  {
   "cell_type": "markdown",
   "metadata": {},
   "source": [
    "Excluindo as linhas dos estudantes de outras UFs"
   ]
  },
  {
   "cell_type": "code",
   "execution_count": 28,
   "metadata": {},
   "outputs": [],
   "source": [
    "matriculas_2015_selecionado = matriculas_2015_selecionado.drop(indice_matriculas_outras_ufs)"
   ]
  },
  {
   "cell_type": "markdown",
   "metadata": {},
   "source": [
    "Verificando novamente as quantidades de cada valor da coluna RESULTADO"
   ]
  },
  {
   "cell_type": "code",
   "execution_count": 29,
   "metadata": {},
   "outputs": [
    {
     "data": {
      "text/plain": [
       "Aprovado     284251\n",
       "Reprovado     30781\n",
       "Name: RESULTADO, dtype: int64"
      ]
     },
     "execution_count": 29,
     "metadata": {},
     "output_type": "execute_result"
    }
   ],
   "source": [
    "matriculas_2015_selecionado['RESULTADO'].value_counts()"
   ]
  },
  {
   "cell_type": "markdown",
   "metadata": {},
   "source": [
    "## Terceiro passo: utilizar um classificador para tentar prever as reprovações dos estudantes"
   ]
  },
  {
   "cell_type": "markdown",
   "metadata": {},
   "source": [
    "Importando os pacotes necessários"
   ]
  },
  {
   "cell_type": "code",
   "execution_count": 30,
   "metadata": {},
   "outputs": [],
   "source": [
    "from sklearn.model_selection import train_test_split\n",
    "from sklearn.ensemble import GradientBoostingClassifier"
   ]
  },
  {
   "cell_type": "markdown",
   "metadata": {},
   "source": [
    "Inicializando o GradientBoostingClassifier"
   ]
  },
  {
   "cell_type": "code",
   "execution_count": 31,
   "metadata": {},
   "outputs": [],
   "source": [
    "gb = GradientBoostingClassifier(n_estimators=900, min_samples_split=700, random_state=42)"
   ]
  },
  {
   "cell_type": "markdown",
   "metadata": {},
   "source": [
    "Separando as colunas com os valores a serem analisados"
   ]
  },
  {
   "cell_type": "code",
   "execution_count": 32,
   "metadata": {},
   "outputs": [],
   "source": [
    "x = matriculas_2015_selecionado.drop('RESULTADO', axis=1).values"
   ]
  },
  {
   "cell_type": "markdown",
   "metadata": {},
   "source": [
    "Separando a coluna do resultado"
   ]
  },
  {
   "cell_type": "code",
   "execution_count": 33,
   "metadata": {},
   "outputs": [],
   "source": [
    "y = matriculas_2015_selecionado['RESULTADO'].values"
   ]
  },
  {
   "cell_type": "markdown",
   "metadata": {},
   "source": [
    "Separando o dataset entre treino e teste"
   ]
  },
  {
   "cell_type": "code",
   "execution_count": 34,
   "metadata": {},
   "outputs": [],
   "source": [
    "x_treino, x_teste, y_treino, y_teste = train_test_split(x, y, test_size=0.25, random_state=42)"
   ]
  },
  {
   "cell_type": "markdown",
   "metadata": {},
   "source": [
    "Treinando o classificador"
   ]
  },
  {
   "cell_type": "code",
   "execution_count": 35,
   "metadata": {},
   "outputs": [
    {
     "name": "stdout",
     "output_type": "stream",
     "text": [
      "Wall time: 0 ns\n"
     ]
    },
    {
     "data": {
      "text/plain": [
       "GradientBoostingClassifier(criterion='friedman_mse', init=None,\n",
       "                           learning_rate=0.1, loss='deviance', max_depth=3,\n",
       "                           max_features=None, max_leaf_nodes=None,\n",
       "                           min_impurity_decrease=0.0, min_impurity_split=None,\n",
       "                           min_samples_leaf=1, min_samples_split=700,\n",
       "                           min_weight_fraction_leaf=0.0, n_estimators=900,\n",
       "                           n_iter_no_change=None, presort='auto',\n",
       "                           random_state=42, subsample=1.0, tol=0.0001,\n",
       "                           validation_fraction=0.1, verbose=0,\n",
       "                           warm_start=False)"
      ]
     },
     "execution_count": 35,
     "metadata": {},
     "output_type": "execute_result"
    }
   ],
   "source": [
    "gb.fit(x_treino, y_treino)"
   ]
  },
  {
   "cell_type": "markdown",
   "metadata": {},
   "source": [
    "Mostrando a acurácia do classificador"
   ]
  },
  {
   "cell_type": "code",
   "execution_count": 36,
   "metadata": {},
   "outputs": [
    {
     "name": "stdout",
     "output_type": "stream",
     "text": [
      "0.9022956398080195\n"
     ]
    }
   ],
   "source": [
    "print(gb.score(x_teste, y_teste))"
   ]
  },
  {
   "cell_type": "markdown",
   "metadata": {},
   "source": [
    "## * passo: verificando as 10 características mais importantes para determinar o resultado"
   ]
  },
  {
   "cell_type": "markdown",
   "metadata": {},
   "source": [
    "Importando os pacotes necessários"
   ]
  },
  {
   "cell_type": "code",
   "execution_count": null,
   "metadata": {},
   "outputs": [],
   "source": [
    "from sklearn.feature_selection import SelectKBest\n",
    "from sklearn.feature_selection import chi2"
   ]
  },
  {
   "cell_type": "code",
   "execution_count": null,
   "metadata": {},
   "outputs": [],
   "source": [
    "Inicializando o  "
   ]
  },
  {
   "cell_type": "code",
   "execution_count": null,
   "metadata": {},
   "outputs": [],
   "source": [
    "bestfeatures = SelectKBest(score_func=chi2, k=15)"
   ]
  },
  {
   "cell_type": "code",
   "execution_count": null,
   "metadata": {},
   "outputs": [],
   "source": [
    "matriculas_2015_selecionado['FORA_IDADE_REFERENCIA'] = 'Não'"
   ]
  },
  {
   "cell_type": "code",
   "execution_count": null,
   "metadata": {},
   "outputs": [],
   "source": [
    "matriculas_2015_selecionado.loc[matriculas_2015_selecionado['NU_IDADE'] > matriculas_2015_selecionado['NU_IDADE_REFERENCIA'], 'FORA_IDADE_REFERENCIA'] = 'Sim'"
   ]
  },
  {
   "cell_type": "code",
   "execution_count": null,
   "metadata": {},
   "outputs": [],
   "source": [
    "X = matriculas_2015_selecionado.drop(['NU_IDADE_REFERENCIA', 'NU_IDADE', 'RESULTADO'], axis=1)"
   ]
  },
  {
   "cell_type": "code",
   "execution_count": null,
   "metadata": {},
   "outputs": [],
   "source": []
  },
  {
   "cell_type": "code",
   "execution_count": null,
   "metadata": {},
   "outputs": [],
   "source": [
    "Y = matriculas_2015_selecionado['RESULTADO']"
   ]
  },
  {
   "cell_type": "code",
   "execution_count": null,
   "metadata": {},
   "outputs": [],
   "source": [
    "fit = bestfeatures.fit(X, Y)"
   ]
  },
  {
   "cell_type": "code",
   "execution_count": null,
   "metadata": {},
   "outputs": [],
   "source": [
    "dfscores = pd.DataFrame(fit.scores_)"
   ]
  },
  {
   "cell_type": "code",
   "execution_count": null,
   "metadata": {},
   "outputs": [],
   "source": [
    "dfcolumns = pd.DataFrame(X.columns)"
   ]
  },
  {
   "cell_type": "code",
   "execution_count": null,
   "metadata": {},
   "outputs": [],
   "source": [
    "featureScores = pd.concat([dfcolumns, dfscores], axis=1)"
   ]
  },
  {
   "cell_type": "code",
   "execution_count": null,
   "metadata": {},
   "outputs": [],
   "source": [
    "featureScores.columns = ['Specs','Score']"
   ]
  },
  {
   "cell_type": "code",
   "execution_count": null,
   "metadata": {},
   "outputs": [],
   "source": [
    "print(featureScores.nlargest(15, 'Score'))"
   ]
  },
  {
   "cell_type": "code",
   "execution_count": null,
   "metadata": {},
   "outputs": [],
   "source": [
    "matriculas_2015_selecionado.loc[matriculas_2015_selecionado['IN_TRANSP_EMBAR_35'] == 1, 'RESULTADO'].value_counts() "
   ]
  },
  {
   "cell_type": "code",
   "execution_count": null,
   "metadata": {},
   "outputs": [],
   "source": []
  }
 ],
 "metadata": {
  "kernelspec": {
   "display_name": "Python 3",
   "language": "python",
   "name": "python3"
  },
  "language_info": {
   "codemirror_mode": {
    "name": "ipython",
    "version": 3
   },
   "file_extension": ".py",
   "mimetype": "text/x-python",
   "name": "python",
   "nbconvert_exporter": "python",
   "pygments_lexer": "ipython3",
   "version": "3.7.3"
  }
 },
 "nbformat": 4,
 "nbformat_minor": 2
}
